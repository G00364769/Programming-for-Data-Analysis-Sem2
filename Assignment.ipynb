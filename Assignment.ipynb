{
 "cells": [
  {
   "cell_type": "markdown",
   "metadata": {},
   "source": [
    "## Name Adarsha sachan"
   ]
  },
  {
   "cell_type": "markdown",
   "metadata": {},
   "source": [
    "## Problem statement"
   ]
  },
  {
   "cell_type": "markdown",
   "metadata": {},
   "source": [
    "## 1 Explain the overall purpose of the package.\n",
    "NumPy is a general-purpose array-processing package. It provides a high-performance multidimensional array object, and tools for working with these arrays. It is the fundamental package for scientific computing with Python"
   ]
  },
  {
   "cell_type": "markdown",
   "metadata": {},
   "source": [
    "## 2 Explain the use of the “Simple random data” and “Permutations” functions.\n",
    ".A simple random sample is a subset of a statistical population in which each member of the subset has an equal probability of being chosen\n",
    "\n",
    ".Permute a sequence, or return a permuted range. If x is a multi-dimensional array, it is only shuffled along its first index.If x is an array, make a copy and shuffle the elements randomly."
   ]
  },
  {
   "cell_type": "markdown",
   "metadata": {},
   "source": [
    "### Simple random data"
   ]
  },
  {
   "cell_type": "code",
   "execution_count": 1,
   "metadata": {},
   "outputs": [
    {
     "data": {
      "text/plain": [
       "array([[0.228692  , 0.70472834, 0.31760468, 0.91320262],\n",
       "       [0.82142251, 0.71195276, 0.06650174, 0.05295952],\n",
       "       [0.5788375 , 0.48822718, 0.332658  , 0.5390347 ],\n",
       "       [0.63416516, 0.2907291 , 0.7706761 , 0.14668927],\n",
       "       [0.67594964, 0.56497167, 0.69803003, 0.64996211]])"
      ]
     },
     "execution_count": 1,
     "metadata": {},
     "output_type": "execute_result"
    }
   ],
   "source": [
    "import numpy as np\n",
    "np.random.rand(5,4)\n",
    "# it create matrix 5/4 with rendom number\n",
    "#The dimensions of the returned array, should all be positive. If no argument is given a single Python float is returned."
   ]
  },
  {
   "cell_type": "code",
   "execution_count": 2,
   "metadata": {},
   "outputs": [
    {
     "data": {
      "text/plain": [
       "array([[-0.37882555, -0.68394877],\n",
       "       [-2.0990355 ,  0.40892132],\n",
       "       [-1.90871427,  1.12008564]])"
      ]
     },
     "execution_count": 2,
     "metadata": {},
     "output_type": "execute_result"
    }
   ],
   "source": [
    "np.random.randn(3,2)*2\n",
    "#it generates an array of shape (d0, d1, ..., dn), filled with random floats sampled from a univariate “normal” (Gaussian) distribution of mean 0 and variance 1 (if any of the d_i are floats, they are first converted to integers by truncation). A single float randomly sampled from the distribution is returned if no argument is provided."
   ]
  },
  {
   "cell_type": "code",
   "execution_count": 3,
   "metadata": {},
   "outputs": [
    {
     "data": {
      "text/plain": [
       "array([[ 6, 10, 12, 10,  2,  7,  7,  9,  6,  9,  7,  7,  8],\n",
       "       [ 5,  8, 12,  9,  2,  9,  7,  9, 11, 12, 13,  8,  1],\n",
       "       [ 1, 11, 12, 11,  2,  9,  5,  1,  4,  7,  3, 13, 12],\n",
       "       [ 4,  6,  7,  5,  5,  0,  1,  4,  5,  8,  0,  2,  6],\n",
       "       [ 0,  0,  4,  9,  7,  4,  0, 12,  3, 12,  8,  0, 10],\n",
       "       [ 2,  6, 10,  3,  5,  9, 12,  6,  4,  5, 13,  7,  9],\n",
       "       [ 4, 11,  2,  4, 13,  9,  7,  9,  2, 11,  3,  2,  8],\n",
       "       [ 1,  2,  4,  1,  8,  5, 12,  7,  3,  6,  6,  2, 12],\n",
       "       [ 1,  4,  8, 12,  4, 11, 13,  6,  7,  6, 12,  8,  0],\n",
       "       [ 2,  3,  7, 10,  1,  4,  4,  8, 12,  8, 10,  7, 11],\n",
       "       [11, 13,  9,  4,  7,  3,  5,  6,  5, 11, 12,  0,  4],\n",
       "       [ 1,  0,  7, 11,  6,  5,  8, 11,  4,  6, 11,  6,  9]])"
      ]
     },
     "execution_count": 3,
     "metadata": {},
     "output_type": "execute_result"
    }
   ],
   "source": [
    "#Generate a 12 X 13 array of ints between 0 and 13, inclusive:\n",
    "np.random.randint(14, size=(12,13))\n"
   ]
  },
  {
   "cell_type": "code",
   "execution_count": 4,
   "metadata": {},
   "outputs": [],
   "source": [
    "array=np.arange(10)\n",
    "np.random.shuffle(array)\n",
    "#This function only shuffles the array along the first axis of a multi-dimensional array. The order of sub-arrays is changed but their contents remains the same."
   ]
  },
  {
   "cell_type": "code",
   "execution_count": 5,
   "metadata": {},
   "outputs": [
    {
     "data": {
      "text/plain": [
       "array([4, 0, 7, 2, 3, 9, 6, 5, 1, 8])"
      ]
     },
     "execution_count": 5,
     "metadata": {},
     "output_type": "execute_result"
    }
   ],
   "source": [
    "array"
   ]
  },
  {
   "cell_type": "markdown",
   "metadata": {},
   "source": [
    "### Permutations” functions\n",
    "\n",
    "Randomly permute a sequence, or return a permuted range\n",
    "\n",
    "If x is an integer, randomly permute np.arange(x). If x is an array, make a copy and shuffle the elements randomly."
   ]
  },
  {
   "cell_type": "code",
   "execution_count": 6,
   "metadata": {},
   "outputs": [
    {
     "data": {
      "text/plain": [
       "array([ 1,  3, 15,  6,  0, 14, 17, 11,  7, 10, 19,  4, 20, 16,  5,  8,  9,\n",
       "       21,  2, 22, 13, 12, 18])"
      ]
     },
     "execution_count": 6,
     "metadata": {},
     "output_type": "execute_result"
    }
   ],
   "source": [
    "np.random.permutation(23)\n",
    "#Randomly permute a sequence, or return a permuted range."
   ]
  },
  {
   "cell_type": "code",
   "execution_count": 7,
   "metadata": {},
   "outputs": [
    {
     "data": {
      "text/plain": [
       "array([[ 0,  1,  2,  3,  4],\n",
       "       [20, 21, 22, 23, 24],\n",
       "       [15, 16, 17, 18, 19],\n",
       "       [ 5,  6,  7,  8,  9],\n",
       "       [10, 11, 12, 13, 14]])"
      ]
     },
     "execution_count": 7,
     "metadata": {},
     "output_type": "execute_result"
    }
   ],
   "source": [
    "x=np.arange(25).reshape((5, 5))\n",
    "# reshape is for matrix size\n",
    "np.random.permutation(x)\n",
    "#Permuted sequence or array range."
   ]
  },
  {
   "cell_type": "markdown",
   "metadata": {},
   "source": [
    "## 3 Explain the use and purpose of at least five “Distributions” functions.\n"
   ]
  },
  {
   "cell_type": "markdown",
   "metadata": {},
   "source": [
    "### 1.numpy.random.beta\n",
    "numpy.random.beta(a, b, size=None). Draw samples from a Beta distribution. The Beta distribution is a special case of the Dirichlet distribution, and is related to the Gamma distribution."
   ]
  },
  {
   "cell_type": "code",
   "execution_count": 9,
   "metadata": {},
   "outputs": [
    {
     "data": {
      "image/png": "[encoded data removed]",
      "text/plain": [
       "<matplotlib.figure.Figure at 0x8bdca20>"
      ]
     },
     "metadata": {},
     "output_type": "display_data"
    }
   ],
   "source": [
    "import matplotlib.pyplot as ptl\n",
    "import numpy as np\n",
    "a=7\n",
    "b=12\n",
    "s=np.random.beta(a, b, size=12)\n",
    "# creating hist plot using numpy.random.beta\n",
    "ptl.hist(s)\n",
    "ptl.show()"
   ]
  },
  {
   "cell_type": "markdown",
   "metadata": {},
   "source": [
    "### 2.numpy.random.f\n",
    "numpy.random.f(dfnum, dfden, size=None). Draw samples from an F distribution. Samples are drawn from an F distribution with specified parameters, dfnum (degrees of freedom in numerator) and dfden (degrees of freedom in denominator), where both parameters should be greater than zero.\n"
   ]
  },
  {
   "cell_type": "code",
   "execution_count": 10,
   "metadata": {},
   "outputs": [],
   "source": [
    "dfnum = 5 # between group degrees of freedom\n",
    "dfden = 8 # within groups degrees of freedom\n",
    "s = np.random.f(dfnum, dfden, 13)\n"
   ]
  },
  {
   "cell_type": "code",
   "execution_count": 11,
   "metadata": {},
   "outputs": [
    {
     "data": {
      "text/plain": [
       "array([4.12736204, 0.13483265, 0.33608664, 0.94557095, 4.60563048,\n",
       "       3.19362991, 1.00066527, 4.84896136, 1.17346392, 1.0422934 ,\n",
       "       2.59655705, 1.34567139, 1.52693857])"
      ]
     },
     "execution_count": 11,
     "metadata": {},
     "output_type": "execute_result"
    }
   ],
   "source": [
    "s"
   ]
  },
  {
   "cell_type": "code",
   "execution_count": 12,
   "metadata": {},
   "outputs": [
    {
     "data": {
      "image/png": "[encoded data removed]",
      "text/plain": [
       "<matplotlib.figure.Figure at 0x79e5780>"
      ]
     },
     "metadata": {},
     "output_type": "display_data"
    }
   ],
   "source": [
    "# creating hist plot using numpy.random.f\n",
    "ptl.hist(s)\n",
    "ptl.show()"
   ]
  },
  {
   "cell_type": "markdown",
   "metadata": {},
   "source": [
    "### 3.numpy.random.noncentral_chisquare\n",
    "numpy.random.noncentral_chisquare(df, nonc, size=None)¶. Draw samples from a noncentral chi-square distribution. The noncentral distribution is a generalisation of the distribution\n",
    "\n",
    "#### http://en.wikipedia.org/wiki/Noncentral_chi-square_distribution"
   ]
  },
  {
   "cell_type": "code",
   "execution_count": 14,
   "metadata": {},
   "outputs": [
    {
     "data": {
      "image/png": "[encoded data removed]",
      "text/plain": [
       "<matplotlib.figure.Figure at 0x95c4fd0>"
      ]
     },
     "metadata": {},
     "output_type": "display_data"
    },
    {
     "data": {
      "text/plain": [
       "<matplotlib.figure.Figure at 0x8fc4518>"
      ]
     },
     "execution_count": 14,
     "metadata": {},
     "output_type": "execute_result"
    },
    {
     "data": {
      "text/plain": [
       "<matplotlib.figure.Figure at 0x8fc4518>"
      ]
     },
     "metadata": {},
     "output_type": "display_data"
    }
   ],
   "source": [
    "#Draw values from the distribution and plot the histogram\n",
    "import matplotlib.pyplot as plt\n",
    "values = plt.hist(np.random.noncentral_chisquare(6, 30,200000),bins=2000, normed=True)\n",
    "plt.show()\n",
    "plt.figure()\n"
   ]
  },
  {
   "cell_type": "markdown",
   "metadata": {},
   "source": [
    "### 4.numpy.random.triangular\n",
    "numpy.random.triangular(left, mode, right, size=None). Draw samples from the triangular distribution over the interval (left, right). The triangular distribution is a continuous probability distribution with lower limit left, peak at mode, and upper limit right.1,2"
   ]
  },
  {
   "cell_type": "code",
   "execution_count": 15,
   "metadata": {},
   "outputs": [
    {
     "data": {
      "image/png": "[encoded data removed]",
      "text/plain": [
       "<matplotlib.figure.Figure at 0x979d400>"
      ]
     },
     "metadata": {},
     "output_type": "display_data"
    }
   ],
   "source": [
    "#Draw values from the distribution and plot the histogram:\n",
    "import matplotlib.pyplot as ptl\n",
    "grapth = plt.hist(np.random.triangular(-5, 2, 8, 1534), bins=200,normed=True)\n",
    "ptl.show()"
   ]
  },
  {
   "cell_type": "markdown",
   "metadata": {},
   "source": [
    "### 5.numpy.random.standard_cauchy\n",
    "Draw samples from a standard Cauchy distribution with mode = 0. Also known as the Lorentz distribution. size : int or tuple of ints, optional. Output shape. If the given shape is, e.g., (m, n, k), then m * n * k samples are drawn."
   ]
  },
  {
   "cell_type": "code",
   "execution_count": 16,
   "metadata": {},
   "outputs": [],
   "source": [
    "#Draw samples and plot the distribution:\n",
    "s = np.random.standard_cauchy(10)\n"
   ]
  },
  {
   "cell_type": "code",
   "execution_count": 17,
   "metadata": {},
   "outputs": [
    {
     "data": {
      "text/plain": [
       "array([ 4.75618750e+00,  1.55181679e+00,  6.67235321e-02, -1.61540030e+01,\n",
       "       -2.81549832e-02,  2.02696977e-02, -1.21302529e+00,  3.92149093e-01,\n",
       "        1.53570775e+02, -5.73081407e-01])"
      ]
     },
     "execution_count": 17,
     "metadata": {},
     "output_type": "execute_result"
    }
   ],
   "source": [
    "s"
   ]
  },
  {
   "cell_type": "code",
   "execution_count": 18,
   "metadata": {},
   "outputs": [],
   "source": [
    "s = s[(s>-12) & (s<18)]  # truncate distribution so it plots well "
   ]
  },
  {
   "cell_type": "code",
   "execution_count": 19,
   "metadata": {},
   "outputs": [
    {
     "data": {
      "text/plain": [
       "array([ 4.7561875 ,  1.55181679,  0.06672353, -0.02815498,  0.0202697 ,\n",
       "       -1.21302529,  0.39214909, -0.57308141])"
      ]
     },
     "execution_count": 19,
     "metadata": {},
     "output_type": "execute_result"
    }
   ],
   "source": [
    "s"
   ]
  },
  {
   "cell_type": "code",
   "execution_count": 20,
   "metadata": {},
   "outputs": [
    {
     "data": {
      "image/png": "[encoded data removed]",
      "text/plain": [
       "<matplotlib.figure.Figure at 0x976a940>"
      ]
     },
     "metadata": {},
     "output_type": "display_data"
    }
   ],
   "source": [
    "plt.hist(s, bins=15)\n",
    "plt.show()"
   ]
  },
  {
   "cell_type": "markdown",
   "metadata": {},
   "source": [
    "## 4 Explain the use of seeds in generating pseudorandom numbers\n",
    "https://www.khanacademy.org/computing/computer-science/cryptography/crypt/v/random-vs-pseudorandom-number-generators\n",
    "\n",
    "A random seed (or seed state, or just seed) is a number (or vector) used to initialize a pseudorandom number generator. For a seed to be used in a pseudorandom number generator, it does not need to be random.\n",
    "\n",
    "#### Seed as provided as input (Select truly random number called seed this number can come from noise or current time in mili second)\n",
    "\n",
    "#### Multiplied seed itself then use out put as middle of result\n",
    "\n",
    "#### Then use that output as next seed and repeate this pocress as many times as need\n",
    "\n",
    "#### This is know middle squired mathod\n",
    "\n",
    "The rendomness of sequence number is depend on seed\n"
   ]
  },
  {
   "cell_type": "markdown",
   "metadata": {},
   "source": [
    "### Refrence seeds in generating pseudorandom numbers\n",
    "https://www.youtube.com/watch?v=itaMNuWLzJo\n",
    "\n",
    "https://www.youtube.com/watch?v=C82JyCmtKWg\n",
    "\n",
    "https://en.wikipedia.org/wiki/John_von_Neumann"
   ]
  },
  {
   "cell_type": "code",
   "execution_count": null,
   "metadata": {},
   "outputs": [],
   "source": [
    "\n"
   ]
  },
  {
   "cell_type": "code",
   "execution_count": null,
   "metadata": {},
   "outputs": [],
   "source": []
  },
  {
   "cell_type": "code",
   "execution_count": null,
   "metadata": {},
   "outputs": [],
   "source": []
  },
  {
   "cell_type": "code",
   "execution_count": null,
   "metadata": {},
   "outputs": [],
   "source": []
  }
 ],
 "metadata": {
  "kernelspec": {
   "display_name": "Python 3",
   "language": "python",
   "name": "python3"
  },
  "language_info": {
   "codemirror_mode": {
    "name": "ipython",
    "version": 3
   },
   "file_extension": ".py",
   "mimetype": "text/x-python",
   "name": "python",
   "nbconvert_exporter": "python",
   "pygments_lexer": "ipython3",
   "version": "3.6.4"
  }
 },
 "nbformat": 4,
 "nbformat_minor": 2
}
