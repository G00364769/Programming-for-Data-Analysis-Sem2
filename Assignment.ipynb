{
 "cells": [
  {
   "cell_type": "markdown",
   "metadata": {},
   "source": [
    "## Name Adarsha sachan"
   ]
  },
  {
   "cell_type": "markdown",
   "metadata": {},
   "source": [
    "## Problem statement"
   ]
  },
  {
   "cell_type": "markdown",
   "metadata": {},
   "source": [
    "## 1 Explain the overall purpose of the package.\n",
    "\n",
    "NumPy is a general-purpose array-processing package. It provides a high-performance multidimensional array object, and tools for working with these arrays. It is the fundamental package for scientific computing with Python\n",
    "\n",
    "It provides a high-performance multidimensional array object, and tools for working with these arrays. It is the fundamental package for scientific computing with Python. ... A powerful N-dimensional array object. Sophisticated (broadcasting) functions.\n",
    "\n",
    "## NumPy uses\n",
    "\n",
    "NumPy is a package in Python used for Scientific Computing. NumPy package is used to perform different operations. The ndarray (NumPy Array) is a multidimensional array used to store values of same datatype. These arrays are indexed just like Sequences, starts with zero."
   ]
  },
  {
   "cell_type": "markdown",
   "metadata": {},
   "source": [
    "## 2 Explain the use of the “Simple random data” and “Permutations” functions.\n",
    "\n",
    "#### .A simple random sample is a subset of a statistical population in which each member of the subset has an equal probability of being chosen\n",
    "\n",
    "#### .Permute a sequence, or return a permuted range. If x is a multi-dimensional array, it is only shuffled along its first index.If x is an array, make a copy and shuffle the elements randomly."
   ]
  },
  {
   "cell_type": "markdown",
   "metadata": {},
   "source": [
    "\n",
    "### numpy.random.rand() \n",
    "its Create an array of the given shape and populate it with random samples\n",
    "### numpy.random.randn() : \n",
    "Return a sample from the standard normal distribution\n",
    "### numpy.random.randint() :\n",
    "Return random integers from low to high \n"
   ]
  },
  {
   "cell_type": "code",
   "execution_count": 1,
   "metadata": {},
   "outputs": [
    {
     "data": {
      "text/plain": [
       "array([[0.749354  , 0.45781166, 0.9896309 , 0.85699646],\n",
       "       [0.14881761, 0.7432193 , 0.78936441, 0.09806009],\n",
       "       [0.16451475, 0.23007854, 0.86622139, 0.71569978],\n",
       "       [0.35991664, 0.04053633, 0.69513754, 0.5646205 ],\n",
       "       [0.0346043 , 0.81561971, 0.14012048, 0.03600078]])"
      ]
     },
     "execution_count": 1,
     "metadata": {},
     "output_type": "execute_result"
    }
   ],
   "source": [
    "import numpy as np\n",
    "np.random.rand(5,4)\n",
    "# it create matrix 5/4 with rendom number\n",
    "#The dimensions of the returned array, should all be positive. If no argument is given a single Python float is returned."
   ]
  },
  {
   "cell_type": "code",
   "execution_count": 2,
   "metadata": {},
   "outputs": [
    {
     "data": {
      "text/plain": [
       "array([[-0.34103295,  1.84621996],\n",
       "       [-0.42858532, -1.46449166],\n",
       "       [ 0.47835509,  2.62151457]])"
      ]
     },
     "execution_count": 2,
     "metadata": {},
     "output_type": "execute_result"
    }
   ],
   "source": [
    "np.random.randn(3,2)*2\n",
    "#it generates an array of shape (d0, d1, ..., dn), filled with random floats sampled from a univariate “normal” (Gaussian) distribution of mean 0 and variance 1 (if any of the d_i are floats, they are first converted to integers by truncation). A single float randomly sampled from the distribution is returned if no argument is provided."
   ]
  },
  {
   "cell_type": "code",
   "execution_count": 3,
   "metadata": {},
   "outputs": [
    {
     "data": {
      "text/plain": [
       "array([[ 7,  7,  0,  8,  6,  7, 12,  7,  9,  9,  5,  5,  5],\n",
       "       [ 8,  0,  2,  5,  3,  5,  9,  7,  6,  6,  5,  9, 10],\n",
       "       [ 4,  0, 12,  4, 11,  5, 13,  3, 10, 11, 10,  7,  5],\n",
       "       [ 7, 11,  4,  7,  0, 11,  5,  0,  1,  8, 11,  2,  4],\n",
       "       [ 9,  0,  6,  8, 11,  2, 12, 12,  2,  2,  5, 12, 13],\n",
       "       [ 6, 10, 10,  0, 13,  0,  3,  4,  3, 13,  7,  2,  7],\n",
       "       [ 6,  7,  7,  8,  7, 11,  5, 11,  9, 12,  0,  9,  9],\n",
       "       [ 3,  3, 13,  1,  6,  0,  1, 11,  5,  6,  9,  2,  9],\n",
       "       [10,  0,  6, 11,  2,  9,  3,  7, 10,  5,  7, 11,  7],\n",
       "       [ 8,  2,  5, 12,  3,  1,  1,  5, 12,  6, 11,  0, 10],\n",
       "       [ 6,  3, 13,  8,  4,  3, 13, 12, 10, 11, 12, 11,  7],\n",
       "       [13,  4,  5,  3, 11,  3,  6,  8,  1,  5,  2,  7, 11]])"
      ]
     },
     "execution_count": 3,
     "metadata": {},
     "output_type": "execute_result"
    }
   ],
   "source": [
    "#Generate a 12 X 13 array of ints between 0 and 13, inclusive:\n",
    "np.random.randint(14, size=(12,13))\n"
   ]
  },
  {
   "cell_type": "code",
   "execution_count": 4,
   "metadata": {},
   "outputs": [],
   "source": [
    "array=np.arange(10)\n",
    "np.random.shuffle(array)\n",
    "#This function only shuffles the array along the first axis of a multi-dimensional array. The order of sub-arrays is changed but their contents remains the same."
   ]
  },
  {
   "cell_type": "code",
   "execution_count": 5,
   "metadata": {},
   "outputs": [
    {
     "data": {
      "text/plain": [
       "array([4, 7, 5, 8, 9, 6, 2, 3, 0, 1])"
      ]
     },
     "execution_count": 5,
     "metadata": {},
     "output_type": "execute_result"
    }
   ],
   "source": [
    "array"
   ]
  },
  {
   "cell_type": "markdown",
   "metadata": {},
   "source": [
    "## Permutations” functions\n",
    "\n",
    "#### Randomly permute a sequence, or return a permuted range\n",
    "\n",
    "#### If x is an integer, randomly permute np.arange(x). If x is an array, make a copy and shuffle the elements randomly.\n",
    "\n",
    "http://memobio2015.u-strasbg.fr/conference/FICHIERS/Documentation/doc-numpy-html/reference/routines.random.html\n",
    "\n",
    "### Use\n",
    "In mathematics, the notion of permutation relates to the act of arranging all the members of a set into some sequence or order, or if the set is already ordered, rearranging (reordering) its elements, a process called permuting."
   ]
  },
  {
   "cell_type": "code",
   "execution_count": 6,
   "metadata": {},
   "outputs": [
    {
     "data": {
      "text/plain": [
       "array([12, 13, 14, 16,  9, 21, 19,  0, 17,  7, 15,  2,  3, 11,  1,  4, 18,\n",
       "       10,  5, 22, 20,  8,  6])"
      ]
     },
     "execution_count": 6,
     "metadata": {},
     "output_type": "execute_result"
    }
   ],
   "source": [
    "np.random.permutation(23)\n",
    "#Randomly permute a sequence, or return a permuted range."
   ]
  },
  {
   "cell_type": "code",
   "execution_count": 7,
   "metadata": {},
   "outputs": [
    {
     "data": {
      "text/plain": [
       "array([[ 5,  6,  7,  8,  9],\n",
       "       [15, 16, 17, 18, 19],\n",
       "       [ 0,  1,  2,  3,  4],\n",
       "       [10, 11, 12, 13, 14],\n",
       "       [20, 21, 22, 23, 24]])"
      ]
     },
     "execution_count": 7,
     "metadata": {},
     "output_type": "execute_result"
    }
   ],
   "source": [
    "x=np.arange(25).reshape((5, 5))\n",
    "# reshape is for matrix size\n",
    "np.random.permutation(x)\n",
    "#Permuted sequence or array range."
   ]
  },
  {
   "cell_type": "markdown",
   "metadata": {},
   "source": [
    "## 3 Explain the use and purpose of at least five “Distributions” functions.\n"
   ]
  },
  {
   "cell_type": "markdown",
   "metadata": {},
   "source": [
    "### 1.numpy.random.beta\n",
    "numpy.random.beta(a, b, size=None). Draw samples from a Beta distribution. The Beta distribution is a special case of the Dirichlet distribution, and is related to the Gamma distribution.\n",
    "\n",
    "### Uses\n",
    "Draw samples from a Beta distribution.\n",
    "\n",
    "### Purpose\n",
    "A Beta distribution with parameters and is a uniform distribution on the interval .When we have that Therefore, the probability density function of a Beta distribution with parameters and can be written as But the latter is the probability density function of a uniform distribution on the interval ."
   ]
  },
  {
   "cell_type": "markdown",
   "metadata": {},
   "source": [
    "#  Example numpy.random.beta"
   ]
  },
  {
   "cell_type": "code",
   "execution_count": 19,
   "metadata": {},
   "outputs": [
    {
     "name": "stdout",
     "output_type": "stream",
     "text": [
      "mean of sample = 0.38545152260965665 but should be 0.38461538461538464\n",
      "The error = 0.002173958785107233\n"
     ]
    },
    {
     "data": {
      "image/png": "[encoded data removed]",
      "text/plain": [
       "<matplotlib.figure.Figure at 0x95c6400>"
      ]
     },
     "metadata": {},
     "output_type": "display_data"
    }
   ],
   "source": [
    "\n",
    "import matplotlib.pyplot as plt\n",
    "import numpy as np\n",
    "N = 1000\n",
    "a = 5\n",
    "b = 8\n",
    "x = np.random.beta(a, b, N)\n",
    "plt.hist(x, bins = 50, color = 'yellow')\n",
    "plt.xlabel('x')\n",
    "plt.ylabel('Frequency')\n",
    "plt.title('numpy.random.beta')\n",
    "m1 = x.mean()\n",
    "m2 = a/(a+b)\n",
    "error = (m1-m2)/m2\n",
    "print(\"mean of sample = %s but should be %s\" % (m1,m2))\n",
    "print(\"The error = %s\" % error)\n",
    "plt.show()\n"
   ]
  },
  {
   "cell_type": "markdown",
   "metadata": {},
   "source": [
    "### 2.numpy.random.f\n",
    "numpy.random.f(dfnum, dfden, size=None). Draw samples from an F distribution. Samples are drawn from an F distribution with specified parameters, dfnum (degrees of freedom in numerator) and dfden (degrees of freedom in denominator), where both parameters should be greater than zero.\n",
    "\n",
    "### Uses\n",
    "The main use of F-distribution is to test whether two independent samples have been drawn for the normal populations with the same variance, or if two independent estimates of the population variance are homogeneous or not, since it is often desirable to compare two variances rather than two averages.\n",
    "\n",
    "### Purpose\n",
    "The F distribution is a right-skewed distribution used most commonly in Analysis of Variance. When referencing the F distribution, the numerator degrees of freedom are always given first, as switching the order of degrees of freedom changes the distribution."
   ]
  },
  {
   "cell_type": "markdown",
   "metadata": {},
   "source": [
    "# Example of numpy.random.f"
   ]
  },
  {
   "cell_type": "code",
   "execution_count": 54,
   "metadata": {},
   "outputs": [
    {
     "data": {
      "text/plain": [
       "[<matplotlib.lines.Line2D at 0xa940e80>]"
      ]
     },
     "execution_count": 54,
     "metadata": {},
     "output_type": "execute_result"
    },
    {
     "data": {
      "image/png": "[encoded data removed]",
      "text/plain": [
       "<matplotlib.figure.Figure at 0xa7f4588>"
      ]
     },
     "metadata": {},
     "output_type": "display_data"
    }
   ],
   "source": [
    "import numpy as np\n",
    "from scipy.stats import f\n",
    "import matplotlib.pyplot as plt\n",
    "\n",
    "# first f\n",
    "a = f(dfn=13, dfd=18)\n",
    "x = np.linspace(a.ppf(0.0001), a.ppf(0.9999), 100)\n",
    "y = a.pdf(x) \n",
    "\n",
    "plt.xlim(0,5)\n",
    "plt.plot(x,y, 'b-')\n",
    "\n",
    "# second f \n",
    "b = f(dfn=29, dfd=26)\n",
    "x = np.linspace(b.ppf(0.0001), b.ppf(0.9999), 100)\n",
    "y = b.pdf(x) \n",
    "\n",
    "plt.plot(x,y, 'r--')\n",
    "\n"
   ]
  },
  {
   "cell_type": "code",
   "execution_count": null,
   "metadata": {},
   "outputs": [],
   "source": []
  },
  {
   "cell_type": "code",
   "execution_count": null,
   "metadata": {},
   "outputs": [],
   "source": []
  },
  {
   "cell_type": "code",
   "execution_count": null,
   "metadata": {},
   "outputs": [],
   "source": []
  },
  {
   "cell_type": "markdown",
   "metadata": {},
   "source": [
    "### 3.numpy.random.noncentral_chisquare\n",
    "numpy.random.noncentral_chisquare(df, nonc, size=None)¶. Draw samples from a noncentral chi-square distribution. The noncentral distribution is a generalisation of the distribution\n",
    "\n",
    "### Uses\n",
    "Draw samples from a noncentral chi-square distribution.\n",
    "\n",
    "#### http://en.wikipedia.org/wiki/Noncentral_chi-square_distribution\n",
    "\n",
    "### Purpose\n",
    "The noncentral chi-square distribution requires two parameters: the degrees of freedom and the noncentrality parameter. The noncentrality parameter is the sum of the squared means of the normally distributed quantities. The noncentral chi-square has scientific application in thermodynamics and signal processing"
   ]
  },
  {
   "cell_type": "code",
   "execution_count": 44,
   "metadata": {},
   "outputs": [
    {
     "data": {
      "image/png": "[encoded data removed]",
      "text/plain": [
       "<matplotlib.figure.Figure at 0x9304ef0>"
      ]
     },
     "metadata": {},
     "output_type": "display_data"
    },
    {
     "data": {
      "text/plain": [
       "<matplotlib.figure.Figure at 0xa6c5630>"
      ]
     },
     "execution_count": 44,
     "metadata": {},
     "output_type": "execute_result"
    },
    {
     "data": {
      "text/plain": [
       "<matplotlib.figure.Figure at 0xa6c5630>"
      ]
     },
     "metadata": {},
     "output_type": "display_data"
    }
   ],
   "source": [
    "#Draw values from the distribution and plot the histogram\n",
    "import matplotlib.pyplot as plt\n",
    "values = plt.hist(np.random.noncentral_chisquare(6, 30,200000),bins=2000, normed=True)\n",
    "plt.show()\n",
    "plt.figure()\n"
   ]
  },
  {
   "cell_type": "code",
   "execution_count": 22,
   "metadata": {},
   "outputs": [
    {
     "name": "stdout",
     "output_type": "stream",
     "text": [
      "mean of sample = 134.1726560750199 but should be 0.39552238805970147\n",
      "The error = 338.2289795104277\n"
     ]
    },
    {
     "data": {
      "image/png": "[encoded data removed]",
      "text/plain": [
       "<matplotlib.figure.Figure at 0x93bf7f0>"
      ]
     },
     "metadata": {},
     "output_type": "display_data"
    }
   ],
   "source": [
    "import matplotlib.pyplot as plt\n",
    "import numpy as np\n",
    "N = 23400\n",
    "a = 53\n",
    "b = 81\n",
    "x = np.random.noncentral_chisquare(a, b,N)\n",
    "plt.hist(x, bins = 50, color = 'green')\n",
    "plt.xlabel('x')\n",
    "plt.ylabel('Frequency')\n",
    "plt.title('numpy.random.beta')\n",
    "m1 = x.mean()\n",
    "m2 = a/(a+b)\n",
    "error = (m1-m2)/m2\n",
    "print(\"mean of sample = %s but should be %s\" % (m1,m2))\n",
    "print(\"The error = %s\" % error)\n",
    "plt.show()"
   ]
  },
  {
   "cell_type": "markdown",
   "metadata": {},
   "source": [
    "### 4.numpy.random.triangular\n",
    "numpy.random.triangular(left, mode, right, size=None). Draw samples from the triangular distribution over the interval (left, right). The triangular distribution is a continuous probability distribution with lower limit left, peak at mode, and upper limit right.1,2\n",
    "\n",
    "### Uses\n",
    "Draw samples from the triangular distribution over the interval \n",
    "\n",
    "### Purpose\n",
    "A triangular distribution is a continuous probability distribution with a probability density function shaped like a triangle.The triangular distribution has a definite upper and lower limit, so we avoid unwanted extreme values. In addition the triangular distribution is a good model for skewed distributions\n"
   ]
  },
  {
   "cell_type": "code",
   "execution_count": 15,
   "metadata": {},
   "outputs": [
    {
     "data": {
      "image/png": "[encoded data removed]",
      "text/plain": [
       "<matplotlib.figure.Figure at 0x979d400>"
      ]
     },
     "metadata": {},
     "output_type": "display_data"
    }
   ],
   "source": [
    "#Draw values from the distribution and plot the histogram:\n",
    "import matplotlib.pyplot as ptl\n",
    "grapth = plt.hist(np.random.triangular(-5, 2, 8, 1534), bins=200,normed=True)\n",
    "ptl.show()"
   ]
  },
  {
   "cell_type": "code",
   "execution_count": 50,
   "metadata": {},
   "outputs": [
    {
     "data": {
      "text/plain": [
       "Text(0,0.5,'Y')"
      ]
     },
     "execution_count": 50,
     "metadata": {},
     "output_type": "execute_result"
    },
    {
     "data": {
      "image/png": "[encoded data removed]",
      "text/plain": [
       "<matplotlib.figure.Figure at 0xa9eb780>"
      ]
     },
     "metadata": {},
     "output_type": "display_data"
    }
   ],
   "source": [
    "import math\n",
    "import numpy as np\n",
    "import random\n",
    "import matplotlib.pyplot as plt\n",
    "city= 25# value\n",
    "x = [random.triangular() for i in range(city)]\n",
    "y = [random.gauss(1, 2) for i in range(city)]\n",
    "colors = [random.randint(1, 4) for i in range(city)]\n",
    "areas = [math.pi * random.randint(2, 8)+34 for i in range(city)]\n",
    "# draw a plot\n",
    "plt.figure()\n",
    "plt.scatter(x, y, s=areas,c=colors)\n",
    "plt.xlabel(\"X\")\n",
    "plt.ylabel(\"Y\")\n",
    "#plt.hist(areas)\n"
   ]
  },
  {
   "cell_type": "markdown",
   "metadata": {},
   "source": [
    "### 5.numpy.random.standard_cauchy\n",
    "Draw samples from a standard Cauchy distribution with mode = 0. Also known as the Lorentz distribution. size : int or tuple of ints, optional. Output shape. If the given shape is, e.g., (m, n, k), then m * n * k samples are drawn.\n",
    "\n",
    "### Uses\n",
    "Draw samples from a standard Cauchy distribution with mode = 0.\n",
    "\n",
    "### Purpose\n",
    "The Cauchy distribution is an example of a distribution which has no mean, variance or higher moments defined.When and are two independent normally distributed random variables with expected value 0 and variance 1, then the ratio has the standard Cauchy distribution."
   ]
  },
  {
   "cell_type": "code",
   "execution_count": 16,
   "metadata": {},
   "outputs": [],
   "source": [
    "#Draw samples and plot the distribution:\n",
    "s = np.random.standard_cauchy(10)\n"
   ]
  },
  {
   "cell_type": "code",
   "execution_count": 17,
   "metadata": {},
   "outputs": [
    {
     "data": {
      "text/plain": [
       "array([ 4.75618750e+00,  1.55181679e+00,  6.67235321e-02, -1.61540030e+01,\n",
       "       -2.81549832e-02,  2.02696977e-02, -1.21302529e+00,  3.92149093e-01,\n",
       "        1.53570775e+02, -5.73081407e-01])"
      ]
     },
     "execution_count": 17,
     "metadata": {},
     "output_type": "execute_result"
    }
   ],
   "source": [
    "s"
   ]
  },
  {
   "cell_type": "code",
   "execution_count": 18,
   "metadata": {},
   "outputs": [],
   "source": [
    "s = s[(s>-12) & (s<18)]  # truncate distribution so it plots well "
   ]
  },
  {
   "cell_type": "code",
   "execution_count": 19,
   "metadata": {},
   "outputs": [
    {
     "data": {
      "text/plain": [
       "array([ 4.7561875 ,  1.55181679,  0.06672353, -0.02815498,  0.0202697 ,\n",
       "       -1.21302529,  0.39214909, -0.57308141])"
      ]
     },
     "execution_count": 19,
     "metadata": {},
     "output_type": "execute_result"
    }
   ],
   "source": [
    "s"
   ]
  },
  {
   "cell_type": "code",
   "execution_count": 20,
   "metadata": {},
   "outputs": [
    {
     "data": {
      "image/png": "[encoded data removed]",
      "text/plain": [
       "<matplotlib.figure.Figure at 0x976a940>"
      ]
     },
     "metadata": {},
     "output_type": "display_data"
    }
   ],
   "source": [
    "plt.hist(s, bins=15)\n",
    "plt.show()"
   ]
  },
  {
   "cell_type": "markdown",
   "metadata": {},
   "source": [
    "## 4 Explain the use of seeds in generating pseudorandom numbers\n",
    "https://www.khanacademy.org/computing/computer-science/cryptography/crypt/v/random-vs-pseudorandom-number-generators\n",
    "\n",
    "A random seed (or seed state, or just seed) is a number (or vector) used to initialize a pseudorandom number generator. For a seed to be used in a pseudorandom number generator, it does not need to be random.\n",
    "\n",
    "### Uses\n",
    "A random seed is a number used to initialize a pseudorandom number generator. For a seed to be used in a pseudorandom number generator, it does not need to be random.When a secret encryption key is pseudorandomly generated, having the seed will allow one to obtain the key.\n",
    "\n",
    "#### Seed as provided as input (Select truly random number called seed this number can come from noise or current time in mili second)\n",
    "\n",
    "#### Multiplied seed itself then use out put as middle of result\n",
    "\n",
    "#### Then use that output as next seed and repeate this pocress as many times as need\n",
    "\n",
    "#### This is know middle squired mathod\n",
    "\n",
    "The rendomness of sequence number is depend on seed\n"
   ]
  },
  {
   "cell_type": "markdown",
   "metadata": {},
   "source": [
    "### Refrence seeds in generating pseudorandom numbers\n",
    "https://www.youtube.com/watch?v=itaMNuWLzJo\n",
    "\n",
    "https://www.youtube.com/watch?v=C82JyCmtKWg\n",
    "\n",
    "https://en.wikipedia.org/wiki/John_von_Neumann"
   ]
  },
  {
   "cell_type": "code",
   "execution_count": 16,
   "metadata": {},
   "outputs": [
    {
     "data": {
      "image/png": "[encoded data removed]",
      "text/plain": [
       "<matplotlib.figure.Figure at 0x922dcf8>"
      ]
     },
     "metadata": {},
     "output_type": "display_data"
    }
   ],
   "source": [
    "#%pylab is a \"magic function\" that you can call within IPythonimport pylab\n",
    "import pylab\n",
    "import random\n",
    "random.seed(1234)# my seed value\n",
    "dice = []\n",
    "for i in range(100):\n",
    "    total = random.randint(1,6) + random.randint(1,6)\n",
    "    dice.append(total)\n",
    "pylab.hist(dice, bins= pylab.arange(2,10,1))\n",
    "pylab.show()\n"
   ]
  },
  {
   "cell_type": "code",
   "execution_count": null,
   "metadata": {},
   "outputs": [],
   "source": []
  },
  {
   "cell_type": "code",
   "execution_count": null,
   "metadata": {},
   "outputs": [],
   "source": []
  },
  {
   "cell_type": "code",
   "execution_count": null,
   "metadata": {},
   "outputs": [],
   "source": []
  }
 ],
 "metadata": {
  "kernelspec": {
   "display_name": "Python 3",
   "language": "python",
   "name": "python3"
  },
  "language_info": {
   "codemirror_mode": {
    "name": "ipython",
    "version": 3
   },
   "file_extension": ".py",
   "mimetype": "text/x-python",
   "name": "python",
   "nbconvert_exporter": "python",
   "pygments_lexer": "ipython3",
   "version": "3.6.4"
  }
 },
 "nbformat": 4,
 "nbformat_minor": 2
}
