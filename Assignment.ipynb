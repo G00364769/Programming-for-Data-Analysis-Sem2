{
 "cells": [
  {
   "cell_type": "markdown",
   "metadata": {},
   "source": [
    "## Name Adarsha sachan"
   ]
  },
  {
   "cell_type": "markdown",
   "metadata": {},
   "source": [
    "### Problem statement"
   ]
  },
  {
   "cell_type": "markdown",
   "metadata": {},
   "source": [
    "## 1 Explain the overall purpose of the package.\n",
    "NumPy is a general-purpose array-processing package. It provides a high-performance multidimensional array object, and tools for working with these arrays. It is the fundamental package for scientific computing with Python"
   ]
  },
  {
   "cell_type": "markdown",
   "metadata": {},
   "source": [
    "## 2 Explain the use of the “Simple random data” and “Permutations” functions.\n",
    ".A simple random sample is a subset of a statistical population in which each member of the subset has an equal probability of being chosen\n",
    "\n",
    ".Permute a sequence, or return a permuted range. If x is a multi-dimensional array, it is only shuffled along its first index.If x is an array, make a copy and shuffle the elements randomly."
   ]
  },
  {
   "cell_type": "code",
   "execution_count": 18,
   "metadata": {},
   "outputs": [],
   "source": [
    "import numpy as np\n"
   ]
  },
  {
   "cell_type": "markdown",
   "metadata": {},
   "source": [
    "### Simple random data"
   ]
  },
  {
   "cell_type": "code",
   "execution_count": 19,
   "metadata": {},
   "outputs": [
    {
     "data": {
      "text/plain": [
       "array([[0.81015717, 0.92066681, 0.60734565, 0.68549239],\n",
       "       [0.04177419, 0.99059924, 0.67040599, 0.60819428],\n",
       "       [0.06805869, 0.08617043, 0.29634591, 0.8602563 ],\n",
       "       [0.03288479, 0.82654976, 0.29023359, 0.13240383],\n",
       "       [0.75063538, 0.82084495, 0.00792723, 0.35250302]])"
      ]
     },
     "execution_count": 19,
     "metadata": {},
     "output_type": "execute_result"
    }
   ],
   "source": [
    "np.random.rand(5,4)"
   ]
  },
  {
   "cell_type": "code",
   "execution_count": 20,
   "metadata": {},
   "outputs": [
    {
     "data": {
      "text/plain": [
       "array([[-1.42918666,  1.41867155],\n",
       "       [-0.59992085, -2.48651971],\n",
       "       [-0.08658715,  0.67411938]])"
      ]
     },
     "execution_count": 20,
     "metadata": {},
     "output_type": "execute_result"
    }
   ],
   "source": [
    "np.random.randn(3,2)*2"
   ]
  },
  {
   "cell_type": "code",
   "execution_count": 21,
   "metadata": {},
   "outputs": [
    {
     "data": {
      "text/plain": [
       "array([[ 2, 10,  2,  3, 12,  7, 11,  2,  3, 11,  6,  4, 13],\n",
       "       [11,  8,  8, 10, 10,  5,  7,  9, 10, 10, 13, 10,  2],\n",
       "       [ 6,  8,  1,  9, 13,  4,  0,  6,  2, 12,  7,  6,  3],\n",
       "       [ 8, 10,  2,  0,  0,  5,  5,  0,  5,  0,  5,  0, 10],\n",
       "       [11,  3, 11,  8, 13,  7,  4,  9,  8,  5,  4, 12,  4],\n",
       "       [ 2,  8,  2, 13,  9,  2,  3,  9, 13,  4,  4,  6,  4],\n",
       "       [ 6, 11,  4,  9,  5,  9,  8,  6,  3, 10,  5, 10,  9],\n",
       "       [ 8,  3, 12,  9,  3,  6, 13,  4,  0,  5,  6,  7,  0],\n",
       "       [ 0, 13,  0,  5,  6,  8,  3, 13, 12, 10, 10, 10,  5],\n",
       "       [ 9,  4,  4,  2, 10,  3,  9, 13,  6,  8,  1, 10,  4],\n",
       "       [11,  9, 10,  2,  3, 10,  3,  3,  6, 13,  2, 10,  6],\n",
       "       [ 7,  3,  0,  1,  4,  3,  3,  3,  9,  3,  5,  9,  5]])"
      ]
     },
     "execution_count": 21,
     "metadata": {},
     "output_type": "execute_result"
    }
   ],
   "source": [
    "#np.random.randint(4, size=5)\n",
    "np.random.randint(14, size=(12,13))\n",
    " \n",
    "\n"
   ]
  },
  {
   "cell_type": "code",
   "execution_count": 22,
   "metadata": {},
   "outputs": [],
   "source": [
    "array=np.arange(10)\n",
    "np.random.shuffle(array)"
   ]
  },
  {
   "cell_type": "code",
   "execution_count": 23,
   "metadata": {},
   "outputs": [
    {
     "data": {
      "text/plain": [
       "array([9, 4, 1, 3, 8, 2, 0, 6, 7, 5])"
      ]
     },
     "execution_count": 23,
     "metadata": {},
     "output_type": "execute_result"
    }
   ],
   "source": [
    "array"
   ]
  },
  {
   "cell_type": "markdown",
   "metadata": {},
   "source": [
    "### Permutations” functions\n",
    "\n",
    "Randomly permute a sequence, or return a permuted range\n",
    "\n",
    "If x is an integer, randomly permute np.arange(x). If x is an array, make a copy and shuffle the elements randomly."
   ]
  },
  {
   "cell_type": "code",
   "execution_count": 24,
   "metadata": {},
   "outputs": [
    {
     "data": {
      "text/plain": [
       "array([10, 20,  3, 21, 18,  6, 12, 11, 14,  8, 22,  9, 17,  7, 19,  0,  2,\n",
       "        1, 15, 16,  4, 13,  5])"
      ]
     },
     "execution_count": 24,
     "metadata": {},
     "output_type": "execute_result"
    }
   ],
   "source": [
    "np.random.permutation(23)\n"
   ]
  },
  {
   "cell_type": "code",
   "execution_count": 25,
   "metadata": {},
   "outputs": [
    {
     "data": {
      "text/plain": [
       "array([[10, 11, 12, 13, 14],\n",
       "       [ 5,  6,  7,  8,  9],\n",
       "       [20, 21, 22, 23, 24],\n",
       "       [15, 16, 17, 18, 19],\n",
       "       [ 0,  1,  2,  3,  4]])"
      ]
     },
     "execution_count": 25,
     "metadata": {},
     "output_type": "execute_result"
    }
   ],
   "source": [
    "x=np.arange(25).reshape((5, 5))\n",
    "np.random.permutation(x)\n"
   ]
  },
  {
   "cell_type": "code",
   "execution_count": null,
   "metadata": {},
   "outputs": [],
   "source": []
  },
  {
   "cell_type": "markdown",
   "metadata": {},
   "source": [
    "## 3 Explain the use and purpose of at least five “Distributions” functions.\n"
   ]
  },
  {
   "cell_type": "markdown",
   "metadata": {},
   "source": [
    "### 1.numpy.random.beta\n",
    "numpy.random.beta(a, b, size=None). Draw samples from a Beta distribution. The Beta distribution is a special case of the Dirichlet distribution, and is related to the Gamma distribution."
   ]
  },
  {
   "cell_type": "code",
   "execution_count": 26,
   "metadata": {},
   "outputs": [
    {
     "data": {
      "text/plain": [
       "0.3255351028711677"
      ]
     },
     "execution_count": 26,
     "metadata": {},
     "output_type": "execute_result"
    }
   ],
   "source": [
    "a=2\n",
    "b=3\n",
    "np.random.beta(a, b, size=None)"
   ]
  },
  {
   "cell_type": "markdown",
   "metadata": {},
   "source": [
    "### 2.numpy.random.f\n",
    "numpy.random.f(dfnum, dfden, size=None). Draw samples from an F distribution. Samples are drawn from an F distribution with specified parameters, dfnum (degrees of freedom in numerator) and dfden (degrees of freedom in denominator), where both parameters should be greater than zero.\n"
   ]
  },
  {
   "cell_type": "code",
   "execution_count": 27,
   "metadata": {},
   "outputs": [],
   "source": [
    "dfnum = 1 # between group degrees of freedom\n",
    "dfden = 2 # within groups degrees of freedom\n",
    "s = np.random.f(dfnum, dfden, 3)"
   ]
  },
  {
   "cell_type": "code",
   "execution_count": 28,
   "metadata": {},
   "outputs": [
    {
     "data": {
      "text/plain": [
       "array([0.00053758, 0.14023385, 0.08671268])"
      ]
     },
     "execution_count": 28,
     "metadata": {},
     "output_type": "execute_result"
    }
   ],
   "source": [
    "s"
   ]
  },
  {
   "cell_type": "markdown",
   "metadata": {},
   "source": [
    "### 3.numpy.random.noncentral_chisquare\n",
    "numpy.random.noncentral_chisquare(df, nonc, size=None)¶. Draw samples from a noncentral chi-square distribution. The noncentral distribution is a generalisation of the distribution"
   ]
  },
  {
   "cell_type": "code",
   "execution_count": 30,
   "metadata": {},
   "outputs": [
    {
     "data": {
      "image/png": "[encoded data removed]",
      "text/plain": [
       "<matplotlib.figure.Figure at 0xb638a20>"
      ]
     },
     "metadata": {},
     "output_type": "display_data"
    },
    {
     "data": {
      "text/plain": [
       "<matplotlib.figure.Figure at 0xbff4ba8>"
      ]
     },
     "execution_count": 30,
     "metadata": {},
     "output_type": "execute_result"
    },
    {
     "data": {
      "text/plain": [
       "<matplotlib.figure.Figure at 0xbff4ba8>"
      ]
     },
     "metadata": {},
     "output_type": "display_data"
    }
   ],
   "source": [
    "import matplotlib.pyplot as plt\n",
    "values = plt.hist(np.random.noncentral_chisquare(6, 30,200000),bins=2000, normed=True)\n",
    "plt.show()\n",
    "plt.figure()\n"
   ]
  },
  {
   "cell_type": "code",
   "execution_count": null,
   "metadata": {},
   "outputs": [],
   "source": []
  },
  {
   "cell_type": "markdown",
   "metadata": {},
   "source": [
    "### 4.numpy.random.triangular\n",
    "numpy.random.triangular(left, mode, right, size=None). Draw samples from the triangular distribution over the interval (left, right). The triangular distribution is a continuous probability distribution with lower limit left, peak at mode, and upper limit right.1,2"
   ]
  },
  {
   "cell_type": "code",
   "execution_count": 31,
   "metadata": {},
   "outputs": [],
   "source": [
    "import matplotlib.pyplot as ptl\n"
   ]
  },
  {
   "cell_type": "code",
   "execution_count": 32,
   "metadata": {},
   "outputs": [
    {
     "data": {
      "image/png": "[encoded data removed]",
      "text/plain": [
       "<matplotlib.figure.Figure at 0xc51b828>"
      ]
     },
     "metadata": {},
     "output_type": "display_data"
    }
   ],
   "source": [
    "grapth = plt.hist(np.random.triangular(-5, 2, 8, 1534), bins=200,normed=True)\n",
    "ptl.show()"
   ]
  },
  {
   "cell_type": "markdown",
   "metadata": {},
   "source": [
    "### 5.numpy.random.standard_cauchy\n",
    "Draw samples from a standard Cauchy distribution with mode = 0. Also known as the Lorentz distribution. size : int or tuple of ints, optional. Output shape. If the given shape is, e.g., (m, n, k), then m * n * k samples are drawn."
   ]
  },
  {
   "cell_type": "code",
   "execution_count": 33,
   "metadata": {},
   "outputs": [],
   "source": [
    "s = np.random.standard_cauchy(10)\n"
   ]
  },
  {
   "cell_type": "code",
   "execution_count": 34,
   "metadata": {},
   "outputs": [
    {
     "data": {
      "text/plain": [
       "array([ 0.01074601, -3.29259124, -0.01499895,  0.21631482, -1.82957562,\n",
       "       -0.56879923, -0.49774599,  0.38509477, -0.59546951, -2.55168938])"
      ]
     },
     "execution_count": 34,
     "metadata": {},
     "output_type": "execute_result"
    }
   ],
   "source": [
    "s"
   ]
  },
  {
   "cell_type": "code",
   "execution_count": 35,
   "metadata": {},
   "outputs": [],
   "source": [
    "s = s[(s>-12) & (s<18)]  # truncate distribution so it plots well "
   ]
  },
  {
   "cell_type": "code",
   "execution_count": 36,
   "metadata": {},
   "outputs": [
    {
     "data": {
      "text/plain": [
       "array([ 0.01074601, -3.29259124, -0.01499895,  0.21631482, -1.82957562,\n",
       "       -0.56879923, -0.49774599,  0.38509477, -0.59546951, -2.55168938])"
      ]
     },
     "execution_count": 36,
     "metadata": {},
     "output_type": "execute_result"
    }
   ],
   "source": [
    "s"
   ]
  },
  {
   "cell_type": "code",
   "execution_count": 37,
   "metadata": {},
   "outputs": [
    {
     "data": {
      "image/png": "[encoded data removed]",
      "text/plain": [
       "<matplotlib.figure.Figure at 0xb62ff60>"
      ]
     },
     "metadata": {},
     "output_type": "display_data"
    }
   ],
   "source": [
    "plt.hist(s, bins=15)\n",
    "plt.show()"
   ]
  },
  {
   "cell_type": "markdown",
   "metadata": {},
   "source": [
    "## 4 Explain the use of seeds in generating pseudorandom numbers\n",
    "https://www.khanacademy.org/computing/computer-science/cryptography/crypt/v/random-vs-pseudorandom-number-generators\n",
    "\n",
    "A random seed (or seed state, or just seed) is a number (or vector) used to initialize a pseudorandom number generator. For a seed to be used in a pseudorandom number generator, it does not need to be random.\n",
    "\n",
    " .Select truly random number called seed this number can come from noise or current time in mili second\n",
    "\n",
    ".Next seed as provided as input\n",
    "\n",
    ".Multiplied seed itself then use out put as middle of result\n",
    "\n",
    ".Then use that output as next seed and repeate this pocress as many times as need\n",
    "\n",
    ".This is know middle squired mathod\n",
    "\n",
    "The rendomness of sequence number is depend on seed\n"
   ]
  },
  {
   "cell_type": "markdown",
   "metadata": {},
   "source": [
    "### Refrence seeds in generating pseudorandom numbers\n",
    "https://www.youtube.com/watch?v=itaMNuWLzJo\n",
    "\n",
    "https://www.youtube.com/watch?v=C82JyCmtKWg\n",
    "\n",
    "https://en.wikipedia.org/wiki/John_von_Neumann"
   ]
  },
  {
   "cell_type": "markdown",
   "metadata": {},
   "source": []
  },
  {
   "cell_type": "code",
   "execution_count": null,
   "metadata": {},
   "outputs": [],
   "source": []
  }
 ],
 "metadata": {
  "kernelspec": {
   "display_name": "Python 3",
   "language": "python",
   "name": "python3"
  },
  "language_info": {
   "codemirror_mode": {
    "name": "ipython",
    "version": 3
   },
   "file_extension": ".py",
   "mimetype": "text/x-python",
   "name": "python",
   "nbconvert_exporter": "python",
   "pygments_lexer": "ipython3",
   "version": "3.6.4"
  }
 },
 "nbformat": 4,
 "nbformat_minor": 2
}
