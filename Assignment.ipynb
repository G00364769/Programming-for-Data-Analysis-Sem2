{
 "cells": [
  {
   "cell_type": "markdown",
   "metadata": {},
   "source": [
    "## Name Adarsha sachan"
   ]
  },
  {
   "cell_type": "markdown",
   "metadata": {},
   "source": [
    "## Problem statement"
   ]
  },
  {
   "cell_type": "markdown",
   "metadata": {},
   "source": [
    "## 1 Explain the overall purpose of the package.\n",
    "\n",
    "NumPy is a general-purpose array-processing package. It provides a high-performance multidimensional array object, and tools for working with these arrays. It is the fundamental package for scientific computing with Python\n",
    "\n",
    "It provides a high-performance multidimensional array object, and tools for working with these arrays. It is the fundamental package for scientific computing with Python.A powerful N-dimensional array object. Sophisticated (broadcasting) functions.\n",
    "\n",
    "### NumPy uses\n",
    "\n",
    "NumPy is a package in Python used for Scientific Computing. NumPy package is used to perform different operations. The ndarray (NumPy Array) is a multidimensional array used to store values of same datatype. These arrays are indexed just like Sequences, starts with zero."
   ]
  },
  {
   "cell_type": "markdown",
   "metadata": {},
   "source": [
    "## 2 Explain the use of the “Simple random data” and “Permutations” functions.\n",
    "\n",
    ". A simple random sample is a subset of a statistical population in which each member of the subset has an equal probability of being chosen\n",
    "\n",
    ". Permute a sequence, or return a permuted range. If x is a multi-dimensional array, it is only shuffled along its first index.If x is an array, make a copy and shuffle the elements randomly."
   ]
  },
  {
   "cell_type": "markdown",
   "metadata": {},
   "source": [
    "\n",
    "#### numpy.random.rand() \n",
    "its Create an array of the given shape and populate it with random samples\n",
    "#### numpy.random.randn() : \n",
    "Return a sample from the standard normal distribution\n",
    "#### numpy.random.randint() :\n",
    "Return random integers from low to high \n"
   ]
  },
  {
   "cell_type": "code",
   "execution_count": 1,
   "metadata": {},
   "outputs": [
    {
     "name": "stdout",
     "output_type": "stream",
     "text": [
      "Select random element from list -  Philadelphia\n"
     ]
    }
   ],
   "source": [
    "import random\n",
    "city_list = ['New York', 'Los Angeles', 'Chicago', 'Houston', 'Philadelphia']\n",
    "print(\"Select random element from list - \", random.choice(city_list))"
   ]
  },
  {
   "cell_type": "code",
   "execution_count": 2,
   "metadata": {},
   "outputs": [
    {
     "data": {
      "text/plain": [
       "<matplotlib.figure.Figure at 0x5e4d048>"
      ]
     },
     "metadata": {},
     "output_type": "display_data"
    },
    {
     "name": "stdout",
     "output_type": "stream",
     "text": [
      "Rendom value of N is -  [ 0.53989331  0.02643626  0.02704733 -2.22539721  0.99875059]\n"
     ]
    }
   ],
   "source": [
    "import numpy as np\n",
    "import matplotlib.pyplot as plt\n",
    "#(dist_km, time_start, time_end)\n",
    "N, Distance, Time = 5, 80, 5\n",
    "x = Time* Distance*np.random.randn(N)\n",
    "plt.hist(x)\n",
    "plt.show()\n",
    "print(\"Rendom value of N is - \", np.random.randn(N))"
   ]
  },
  {
   "cell_type": "code",
   "execution_count": 3,
   "metadata": {},
   "outputs": [
    {
     "data": {
      "text/plain": [
       "array([[10,  8,  5, 13,  5,  1,  7,  9,  5,  2,  6,  4,  0],\n",
       "       [ 2, 13,  4,  4, 10,  7, 13,  1,  2,  0,  5,  5,  6],\n",
       "       [ 9, 12,  3,  2, 11,  2,  2,  9,  8,  7, 12,  6,  2],\n",
       "       [12,  3, 10,  1,  1,  3, 12,  6,  4,  6,  1, 11,  3],\n",
       "       [12,  1,  7, 12, 11,  1, 11,  7, 13,  8,  8,  2, 12],\n",
       "       [ 1,  9,  0, 12,  9,  2, 13,  8,  4,  5, 11,  3,  3],\n",
       "       [13, 12,  5,  8, 13,  3,  4, 12,  1,  2,  3, 10,  6],\n",
       "       [ 7,  9, 13, 13, 12, 11,  2, 11,  7, 10, 12,  5,  4],\n",
       "       [ 7,  9,  9,  5,  6, 12, 13,  6,  0, 10,  1,  7,  4],\n",
       "       [ 8,  5,  1,  6,  1, 13,  6, 11,  3, 10,  3,  1,  3],\n",
       "       [ 8, 10,  1,  9,  3, 10,  8,  7,  5,  2, 11,  8,  6],\n",
       "       [ 2,  5,  8, 12, 11, 12,  0,  4, 13, 12,  0,  4,  0]])"
      ]
     },
     "execution_count": 3,
     "metadata": {},
     "output_type": "execute_result"
    }
   ],
   "source": [
    "#Generate a 12 X 13 array of ints between 0 and 13\n",
    "np.random.randint(14, size=(12,13))\n"
   ]
  },
  {
   "cell_type": "code",
   "execution_count": 4,
   "metadata": {},
   "outputs": [
    {
     "name": "stdout",
     "output_type": "stream",
     "text": [
      "Before shuffle a.shape value [[1 2]\n",
      " [3 4]\n",
      " [5 6]\n",
      " [7 8]]\n"
     ]
    }
   ],
   "source": [
    "#array=np.arange(10)\n",
    "import numpy as np\n",
    "import numpy.random\n",
    "\n",
    "a = np.array([1,2,3,4,5,6,7,8])\n",
    "a.shape = (4,2)\n",
    "print (\"Before shuffle a.shape value\",a)\n"
   ]
  },
  {
   "cell_type": "code",
   "execution_count": 5,
   "metadata": {},
   "outputs": [
    {
     "name": "stdout",
     "output_type": "stream",
     "text": [
      "shuffle(a) value in matrix is -  [[5 6]\n",
      " [1 2]\n",
      " [7 8]\n",
      " [3 4]]\n"
     ]
    }
   ],
   "source": [
    "np.random.shuffle(a) # a will Shuffle\n",
    "print (\"shuffle(a) value in matrix is - \", a)"
   ]
  },
  {
   "cell_type": "markdown",
   "metadata": {},
   "source": [
    "### Permutations functions\n",
    "\n",
    " Randomly permute a sequence, or return a permuted range\n",
    "\n",
    "If x is an integer, randomly permute np.arange(x). If x is an array, make a copy and shuffle the elements randomly.\n",
    "\n",
    "### Use\n",
    "In mathematics, the notion of permutation relates to the act of arranging all the members of a set into some sequence or order, or if the set is already ordered, rearranging (reordering) its elements, a process called permuting."
   ]
  },
  {
   "cell_type": "markdown",
   "metadata": {},
   "source": [
    "# Example of Permutations functions"
   ]
  },
  {
   "cell_type": "code",
   "execution_count": 6,
   "metadata": {},
   "outputs": [
    {
     "name": "stdout",
     "output_type": "stream",
     "text": [
      "     fname   lname  age gender\n",
      "0    rayan   tracy   42      M\n",
      "1   kavita  kumari   52      F\n",
      "2  adarsha  sachan   36      M\n",
      "3   vikash   kumar   24      M\n",
      "4     mani  kumari   73      F\n"
     ]
    }
   ],
   "source": [
    "import pandas as pd\n",
    "import numpy as np\n",
    "\n",
    "companydata = {'fname': ['rayan', 'kavita', 'adarsha', 'vikash', 'mani'], \n",
    "        'lname': ['tracy', 'kumari', 'sachan', 'kumar', 'kumari'], \n",
    "        'age': [42, 52, 36, 24, 73], \n",
    "        'gender': [\"M\", \"F\",\"M\", \"M\", \"F\"]}\n",
    "df = pd.DataFrame(companydata, columns = ['fname', 'lname', 'age', 'gender'])\n",
    "print (df )"
   ]
  },
  {
   "cell_type": "code",
   "execution_count": 7,
   "metadata": {},
   "outputs": [
    {
     "name": "stdout",
     "output_type": "stream",
     "text": [
      "It will give and 2 rendom record \n",
      "    fname   lname  age gender\n",
      "4    mani  kumari   73      F\n",
      "1  kavita  kumari   52      F\n"
     ]
    }
   ],
   "source": [
    "\n",
    "df.take(np.random.permutation(len(df))[:2])\n",
    "print(\"It will give and 2 rendom record \")\n",
    "print (df.take(np.random.permutation(len(df))[:2]))"
   ]
  },
  {
   "cell_type": "markdown",
   "metadata": {},
   "source": [
    "## 3 Explain the use and purpose of at least five “Distributions” functions.\n"
   ]
  },
  {
   "cell_type": "markdown",
   "metadata": {},
   "source": [
    "### 1.numpy.random.beta\n",
    "numpy.random.beta(a, b, size=None). Draw samples from a Beta distribution. The Beta distribution is a special case of the Dirichlet distribution, and is related to the Gamma distribution.\n",
    "\n",
    "### Uses\n",
    "Draw samples from a Beta distribution.\n",
    "\n",
    "### Purpose\n",
    "A Beta distribution with parameters and is a uniform distribution on the interval .When we have that Therefore, the probability density function of a Beta distribution with parameters and can be written as But the latter is the probability density function of a uniform distribution on the interval ."
   ]
  },
  {
   "cell_type": "markdown",
   "metadata": {},
   "source": [
    "##  Example numpy.random.beta"
   ]
  },
  {
   "cell_type": "code",
   "execution_count": 8,
   "metadata": {},
   "outputs": [
    {
     "name": "stdout",
     "output_type": "stream",
     "text": [
      "mean of sample = 0.3878923926323489 but should be 0.38461538461538464\n",
      "The error = 0.00852022084410715\n"
     ]
    },
    {
     "data": {
      "image/png": "[encoded data removed]",
      "text/plain": [
       "<matplotlib.figure.Figure at 0x9ba0c88>"
      ]
     },
     "metadata": {},
     "output_type": "display_data"
    }
   ],
   "source": [
    "\n",
    "import matplotlib.pyplot as plt\n",
    "import numpy as np\n",
    "N = 1000\n",
    "a = 5\n",
    "b = 8\n",
    "# Beta distribution with parameters \n",
    "x = np.random.beta(a, b, N)\n",
    "#print(\"Value of x\",x)\n",
    "plt.hist(x, bins = 50, color = 'yellow')\n",
    "plt.xlabel('x')\n",
    "plt.ylabel('Frequency')\n",
    "plt.title('numpy.random.beta')\n",
    "m1 = x.mean()\n",
    "#print(\"mean of m\",m1)\n",
    "m2 = a/(a+b)\n",
    "error = (m1-m2)/m2\n",
    "print(\"mean of sample = %s but should be %s\" % (m1,m2))\n",
    "print(\"The error = %s\" % error)\n",
    "plt.show()\n"
   ]
  },
  {
   "cell_type": "markdown",
   "metadata": {},
   "source": [
    "### 2.numpy.random.f\n",
    "numpy.random.f(dfnum, dfden, size=None). Draw samples from an F distribution. Samples are drawn from an F distribution with specified parameters, dfnum (degrees of freedom in numerator) and dfden (degrees of freedom in denominator), where both parameters should be greater than zero.\n",
    "\n",
    "### Uses\n",
    "The main use of F-distribution is to test whether two independent samples have been drawn for the normal populations with the same variance, or if two independent estimates of the population variance are homogeneous or not, since it is often desirable to compare two variances rather than two averages.\n",
    "\n",
    "### Purpose\n",
    "The F distribution is a right-skewed distribution used most commonly in Analysis of Variance. When referencing the F distribution, the numerator degrees of freedom are always given first, as switching the order of degrees of freedom changes the distribution."
   ]
  },
  {
   "cell_type": "markdown",
   "metadata": {},
   "source": [
    "## Example of numpy.random.f"
   ]
  },
  {
   "cell_type": "code",
   "execution_count": 10,
   "metadata": {},
   "outputs": [
    {
     "data": {
      "text/plain": [
       "[<matplotlib.lines.Line2D at 0xbc8de80>]"
      ]
     },
     "execution_count": 10,
     "metadata": {},
     "output_type": "execute_result"
    },
    {
     "data": {
      "image/png": "[encoded data removed]",
      "text/plain": [
       "<matplotlib.figure.Figure at 0xba18748>"
      ]
     },
     "metadata": {},
     "output_type": "display_data"
    }
   ],
   "source": [
    "import numpy as np\n",
    "from scipy.stats import f\n",
    "import matplotlib.pyplot as plt\n",
    "\n",
    "# first\n",
    "#f takes dfn and dfd as shape parameters.\n",
    "a = f(dfn=13, dfd=18)\n",
    "#ppf Percent point function\n",
    "#p.linspace Return evenly spaced numbers over a specified interval.\n",
    "x = np.linspace(a.ppf(0.0001), a.ppf(0.9999), 100)\n",
    "#print(x)\n",
    "y = a.pdf(x) \n",
    "#print(y)\n",
    "\n",
    "plt.xlim(0,5)\n",
    "plt.plot(x,y, 'b-')\n",
    "\n",
    "# second\n",
    "b = f(dfn=29, dfd=26)\n",
    "x = np.linspace(b.ppf(0.0001), b.ppf(0.9999), 100)\n",
    "#Display the probability density function (pdf):\n",
    "y = b.pdf(x) \n",
    "\n",
    "plt.plot(x,y, 'r--')\n",
    "\n"
   ]
  },
  {
   "cell_type": "markdown",
   "metadata": {},
   "source": [
    "### 3.numpy.random.noncentral_chisquare\n",
    "numpy.random.noncentral_chisquare(df, nonc, size=None)¶. Draw samples from a noncentral chi-square distribution. The noncentral distribution is a generalisation of the distribution\n",
    "\n",
    "### Uses\n",
    "Draw samples from a noncentral chi-square distribution.\n",
    "\n",
    "### Purpose\n",
    "The noncentral chi-square distribution requires two parameters: the degrees of freedom and the noncentrality parameter. The noncentrality parameter is the sum of the squared means of the normally distributed quantities. The noncentral chi-square has scientific application in thermodynamics and signal processing"
   ]
  },
  {
   "cell_type": "code",
   "execution_count": 11,
   "metadata": {},
   "outputs": [
    {
     "data": {
      "image/png": "[encoded data removed]",
      "text/plain": [
       "<matplotlib.figure.Figure at 0x5e45748>"
      ]
     },
     "metadata": {},
     "output_type": "display_data"
    },
    {
     "data": {
      "text/plain": [
       "<matplotlib.figure.Figure at 0xb6f59e8>"
      ]
     },
     "execution_count": 11,
     "metadata": {},
     "output_type": "execute_result"
    },
    {
     "data": {
      "text/plain": [
       "<matplotlib.figure.Figure at 0xb6f59e8>"
      ]
     },
     "metadata": {},
     "output_type": "display_data"
    }
   ],
   "source": [
    "#Draw values from the distribution and plot the histogram\n",
    "import matplotlib.pyplot as plt\n",
    "values = plt.hist(np.random.noncentral_chisquare(6, 30,200000),bins=2000, normed=True)\n",
    "plt.show()\n",
    "plt.figure()\n"
   ]
  },
  {
   "cell_type": "markdown",
   "metadata": {},
   "source": [
    "## Example Numpy.random.noncentral_chisquare"
   ]
  },
  {
   "cell_type": "code",
   "execution_count": 12,
   "metadata": {},
   "outputs": [
    {
     "name": "stdout",
     "output_type": "stream",
     "text": [
      "non_centrality value is_ 0.25000000000000006\n"
     ]
    },
    {
     "data": {
      "image/png": "[encoded data removed]",
      "text/plain": [
       "<matplotlib.figure.Figure at 0xb8937f0>"
      ]
     },
     "metadata": {},
     "output_type": "display_data"
    }
   ],
   "source": [
    "import numpy as np\n",
    "from scipy.stats import ncx2\n",
    "import matplotlib.pyplot as plt\n",
    "#np.random.noncentral_chisquare\n",
    "n = 100  # number of normals in sum\n",
    "trials= 10000  # number of trials\n",
    "\n",
    "mu = 0.05\n",
    "sig = 0.3\n",
    "\n",
    "### Generate sums of squared normals\n",
    "Z = np.random.normal(loc=mu, scale=sig, size=(trials, n))\n",
    "S = np.sum(Z**2, axis=1)\n",
    "#print(\"Sum of squared value is _\",Z)\n",
    "\n",
    "### non_centrality\n",
    "non_centrality = n*mu**2\n",
    "print(\"non_centrality value is_\",non_centrality)\n",
    "NCX2 = sig**2 * ncx2.rvs(n, non_centrality, size=trials)\n",
    "\n",
    "\n",
    "##Plot histos using subplot\n",
    "fig, ax = plt.subplots()\n",
    "ax.hist(S, bins=50, label='squared normals')\n",
    "ax.hist(NCX2, bins=50, label='Non_centrality')\n",
    "ax.legend()\n",
    "plt.show()"
   ]
  },
  {
   "cell_type": "markdown",
   "metadata": {},
   "source": [
    "## 4.numpy.random.triangular\n",
    "numpy.random.triangular(left, mode, right, size=None). Draw samples from the triangular distribution over the interval (left, right). The triangular distribution is a continuous probability distribution with lower limit left, peak at mode, and upper limit right.1,2\n",
    "\n",
    "### Uses\n",
    "Draw samples from the triangular distribution over the interval \n",
    "\n",
    "### Purpose\n",
    "A triangular distribution is a continuous probability distribution with a probability density function shaped like a triangle.The triangular distribution has a definite upper and lower limit, so we avoid unwanted extreme values. In addition the triangular distribution is a good model for skewed distributions\n"
   ]
  },
  {
   "cell_type": "code",
   "execution_count": 13,
   "metadata": {},
   "outputs": [
    {
     "data": {
      "image/png": "[encoded data removed]",
      "text/plain": [
       "<matplotlib.figure.Figure at 0xb9c6d30>"
      ]
     },
     "metadata": {},
     "output_type": "display_data"
    }
   ],
   "source": [
    "#Draw values from the distribution and plot the histogram:\n",
    "import matplotlib.pyplot as ptl\n",
    "grapth = plt.hist(np.random.triangular(-5, 2, 8, 1534), bins=200,normed=True)\n",
    "ptl.show()"
   ]
  },
  {
   "cell_type": "markdown",
   "metadata": {},
   "source": [
    "## Example numpy.random.triangular"
   ]
  },
  {
   "cell_type": "code",
   "execution_count": 14,
   "metadata": {},
   "outputs": [
    {
     "name": "stdout",
     "output_type": "stream",
     "text": [
      "Value of colour is _ [2, 1, 4, 1, 4, 3, 3, 2, 1, 2, 3, 4, 3, 3, 3, 2, 4, 2, 1, 3, 2, 1, 2, 3, 1]\n"
     ]
    },
    {
     "data": {
      "text/plain": [
       "Text(0,0.5,'Y')"
      ]
     },
     "execution_count": 14,
     "metadata": {},
     "output_type": "execute_result"
    },
    {
     "data": {
      "image/png": "[encoded data removed]",
      "text/plain": [
       "<matplotlib.figure.Figure at 0xd483160>"
      ]
     },
     "metadata": {},
     "output_type": "display_data"
    }
   ],
   "source": [
    "import math\n",
    "import numpy as np\n",
    "import random\n",
    "import matplotlib.pyplot as plt\n",
    "city= 25# value\n",
    "x = [random.triangular() for i in range(city)]\n",
    "#print(\"random.triangular value of x is _\",x)\n",
    "y = [random.gauss(1, 2) for i in range(city)]\n",
    "#print(\"random gauss is \",y)\n",
    "colors = [random.randint(1, 4) for i in range(city)]\n",
    "print (\"Value of colour is _\",colors)\n",
    "areas = [math.pi * random.randint(4, 44)+64 for i in range(city)]\n",
    "#print (areas)\n",
    "# draw a plot\n",
    "plt.figure()\n",
    "plt.scatter(x, y, s=areas,c=colors)\n",
    "plt.xlabel(\"X\")\n",
    "plt.ylabel(\"Y\")\n",
    "#plt.hist(areas)\n"
   ]
  },
  {
   "cell_type": "markdown",
   "metadata": {},
   "source": [
    "## 5.numpy.random.standard_cauchy\n",
    "Draw samples from a standard Cauchy distribution with mode = 0. Also known as the Lorentz distribution. size : int or tuple of ints, optional. Output shape. If the given shape is, e.g., (m, n, k), then m * n * k samples are drawn.\n",
    "\n",
    "### Uses\n",
    "Draw samples from a standard Cauchy distribution with mode = 0.\n",
    "\n",
    "### Purpose\n",
    "The Cauchy distribution is an example of a distribution which has no mean, variance or higher moments defined.When and are two independent normally distributed random variables with expected value 0 and variance 1, then the ratio has the standard Cauchy distribution."
   ]
  },
  {
   "cell_type": "code",
   "execution_count": 15,
   "metadata": {},
   "outputs": [
    {
     "data": {
      "image/png": "[encoded data removed]",
      "text/plain": [
       "<matplotlib.figure.Figure at 0xd458f60>"
      ]
     },
     "metadata": {},
     "output_type": "display_data"
    }
   ],
   "source": [
    "#Draw samples and plot the distribution:\n",
    "import numpy as np\n",
    "import matplotlib.pyplot as plt\n",
    "s = np.random.standard_cauchy(10)\n",
    "s = s[(s>-12) & (s<18)]  # truncate distribution so it plots well \n",
    "plt.hist(s, bins=15)\n",
    "plt.show()"
   ]
  },
  {
   "cell_type": "markdown",
   "metadata": {},
   "source": [
    "## Example numpy.random.standard_cauchy"
   ]
  },
  {
   "cell_type": "code",
   "execution_count": 16,
   "metadata": {},
   "outputs": [
    {
     "name": "stdout",
     "output_type": "stream",
     "text": [
      "continuous probability distribution is  <scipy.stats._distn_infrastructure.rv_frozen object at 0x000000000D7395F8>\n",
      "continuous probability distribution is  <scipy.stats._distn_infrastructure.rv_frozen object at 0x000000000D739940>\n",
      "continuous probability distribution is  <scipy.stats._distn_infrastructure.rv_frozen object at 0x000000000D7400F0>\n"
     ]
    },
    {
     "data": {
      "image/png": "[encoded data removed]",
      "text/plain": [
       "<matplotlib.figure.Figure at 0xd665748>"
      ]
     },
     "metadata": {},
     "output_type": "display_data"
    }
   ],
   "source": [
    "import numpy as np\n",
    "#\n",
    "from scipy.stats import cauchy\n",
    "from matplotlib import pyplot as plt\n",
    "#------------------------------------------------------------\n",
    "# Define the distribution parameters to be plotted\n",
    "gamma_values = [0.5, 1.0, 2.0]\n",
    "line = ['-', '--', ':']\n",
    "mu = 0\n",
    "x = np.linspace(-10, 10, 1000)\n",
    "#print(\"np.linspace value of x_\",x)\n",
    "\n",
    "#------------------------------------------------------------\n",
    "# plot the distributions\n",
    "fig, ax = plt.subplots(figsize=(5, 3.75))\n",
    "#zip() does this sort of thing\n",
    "for gamma, ls in zip(gamma_values, line):\n",
    "    dist = cauchy(mu, gamma)\n",
    "    print(\"continuous probability distribution is \",dist)\n",
    "\n",
    "    plt.plot(x, dist.pdf(x), ls=ls, color='green')#\n",
    "    \n",
    "#setting the limits on the x-axis and y-axis         \n",
    "plt.xlim(-3.8, 4.2)\n",
    "plt.ylim(0, 0.75)\n",
    "plt.title('Cauchy Distribution')\n",
    "plt.show()"
   ]
  },
  {
   "cell_type": "markdown",
   "metadata": {},
   "source": [
    "## 4 Explain the use of seeds in generating pseudorandom numbers\n",
    "\n",
    "A random seed (or seed state, or just seed) is a number (or vector) used to initialize a pseudorandom number generator. For a seed to be used in a pseudorandom number generator, it does not need to be random.\n",
    "\n",
    "### Uses\n",
    "A random seed is a number used to initialize a pseudorandom number generator. For a seed to be used in a pseudorandom number generator, it does not need to be random.When a secret encryption key is pseudorandomly generated, having the seed will allow one to obtain the key.\n",
    "\n",
    " .Seed as provided as input (Select truly random number called seed this number can come from noise or current time in mili second)\n",
    "\n",
    " .Multiplied seed itself then use out put as middle of result\n",
    "\n",
    ".Then use that output as next seed and repeate this pocress as many times as need\n",
    "\n",
    " .This is know middle squired mathod\n",
    "\n",
    "The rendomness of sequence number is depend on seed\n",
    "\n",
    "### The seed method is used to initialize the pseudorandom number generator in Python.\n",
    "\n",
    "The random module uses the seed value as a base to generate a random number. if seed value is not present it takes system current time. if you provide same seed value before generating random data it will produce the same data\n"
   ]
  },
  {
   "cell_type": "markdown",
   "metadata": {},
   "source": [
    "# Seed Example"
   ]
  },
  {
   "cell_type": "code",
   "execution_count": 17,
   "metadata": {},
   "outputs": [
    {
     "name": "stdout",
     "output_type": "stream",
     "text": [
      "First sample Name_List  ['vikash', 'adarsha', 'rayan']\n",
      "Second sample Name_List  ['vikash', 'adarsha', 'rayan']\n",
      "Third sample Name_List  ['kavita', 'vikash', 'adarsha']\n"
     ]
    }
   ],
   "source": [
    "import random\n",
    "#using random.seed() and random.sample() together\n",
    "Name_List = ['rayan', 'kavita', 'adarsha', 'vikash', 'mani','sachan', 'kumar', 'kumari']\n",
    "random.seed(4)\n",
    "\n",
    "sample_list = random.sample(Name_List, 3)\n",
    "print(\"First sample Name_List \",sample_list)\n",
    "\n",
    "#will generate a same random number as previous\n",
    "random.seed(4)\n",
    "sample_list = random.sample(Name_List, 3)\n",
    "print(\"Second sample Name_List \", sample_list)\n",
    "\n",
    "# after changing seed value will chage\n",
    "random.seed(6)\n",
    "\n",
    "sample_list = random.sample(Name_List, 3)\n",
    "print(\"Third sample Name_List \", sample_list)\n"
   ]
  },
  {
   "cell_type": "code",
   "execution_count": 18,
   "metadata": {},
   "outputs": [
    {
     "data": {
      "image/png": "[encoded data removed]",
      "text/plain": [
       "<matplotlib.figure.Figure at 0xd691320>"
      ]
     },
     "metadata": {},
     "output_type": "display_data"
    }
   ],
   "source": [
    "#%pylab is a \"magic function\" that you can call within IPythonimport pylab\n",
    "import pylab\n",
    "import random\n",
    "random.seed(888)# my seed value\n",
    "dice = []\n",
    "for i in range(10):\n",
    "    total = random.randint(1,6) + random.randint(1,6)\n",
    "    #print(total)\n",
    "    dice.append(total)\n",
    "   # print( dice.append(total))\n",
    "pylab.hist(dice, bins= pylab.arange(2,15,1))\n",
    "pylab.show()\n"
   ]
  },
  {
   "cell_type": "code",
   "execution_count": null,
   "metadata": {},
   "outputs": [],
   "source": [
    "\n"
   ]
  },
  {
   "cell_type": "code",
   "execution_count": null,
   "metadata": {},
   "outputs": [],
   "source": []
  },
  {
   "cell_type": "code",
   "execution_count": null,
   "metadata": {},
   "outputs": [],
   "source": []
  },
  {
   "cell_type": "code",
   "execution_count": null,
   "metadata": {},
   "outputs": [],
   "source": []
  }
 ],
 "metadata": {
  "kernelspec": {
   "display_name": "Python 3",
   "language": "python",
   "name": "python3"
  },
  "language_info": {
   "codemirror_mode": {
    "name": "ipython",
    "version": 3
   },
   "file_extension": ".py",
   "mimetype": "text/x-python",
   "name": "python",
   "nbconvert_exporter": "python",
   "pygments_lexer": "ipython3",
   "version": "3.6.4"
  }
 },
 "nbformat": 4,
 "nbformat_minor": 2
}
