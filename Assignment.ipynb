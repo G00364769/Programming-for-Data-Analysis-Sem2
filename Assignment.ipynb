{
 "cells": [
  {
   "cell_type": "markdown",
   "metadata": {},
   "source": [
    "## Name Adarsha sachan"
   ]
  },
  {
   "cell_type": "markdown",
   "metadata": {},
   "source": [
    "## Problem statement"
   ]
  },
  {
   "cell_type": "markdown",
   "metadata": {},
   "source": [
    "## 1 Explain the overall purpose of the package.\n",
    "\n",
    "NumPy is a general-purpose array-processing package. It provides a high-performance multidimensional array object, and tools for working with these arrays. It is the fundamental package for scientific computing with Python\n",
    "\n",
    "It provides a high-performance multidimensional array object, and tools for working with these arrays. It is the fundamental package for scientific computing with Python.A powerful N-dimensional array object. Sophisticated (broadcasting) functions.\n",
    "\n",
    "## NumPy uses\n",
    "\n",
    "NumPy is a package in Python used for Scientific Computing. NumPy package is used to perform different operations. The ndarray (NumPy Array) is a multidimensional array used to store values of same datatype. These arrays are indexed just like Sequences, starts with zero."
   ]
  },
  {
   "cell_type": "markdown",
   "metadata": {},
   "source": [
    "## 2 Explain the use of the “Simple random data” and “Permutations” functions.\n",
    "\n",
    "####  A simple random sample is a subset of a statistical population in which each member of the subset has an equal probability of being chosen\n",
    "\n",
    "####  Permute a sequence, or return a permuted range. If x is a multi-dimensional array, it is only shuffled along its first index.If x is an array, make a copy and shuffle the elements randomly."
   ]
  },
  {
   "cell_type": "markdown",
   "metadata": {},
   "source": [
    "\n",
    "### numpy.random.rand() \n",
    "its Create an array of the given shape and populate it with random samples\n",
    "### numpy.random.randn() : \n",
    "Return a sample from the standard normal distribution\n",
    "### numpy.random.randint() :\n",
    "Return random integers from low to high \n"
   ]
  },
  {
   "cell_type": "code",
   "execution_count": 190,
   "metadata": {},
   "outputs": [
    {
     "name": "stdout",
     "output_type": "stream",
     "text": [
      "Select random element from list -  Houston\n"
     ]
    }
   ],
   "source": [
    "import random\n",
    "city_list = ['New York', 'Los Angeles', 'Chicago', 'Houston', 'Philadelphia']\n",
    "print(\"Select random element from list - \", random.choice(city_list))"
   ]
  },
  {
   "cell_type": "code",
   "execution_count": 191,
   "metadata": {
    "collapsed": true
   },
   "outputs": [
    {
     "data": {
      "image/png": "[encoded data removed]",
      "text/plain": [
       "<matplotlib.figure.Figure at 0xb568f98>"
      ]
     },
     "metadata": {},
     "output_type": "display_data"
    }
   ],
   "source": [
    "import numpy as np\n",
    "import matplotlib.pyplot as plt\n",
    "#(dist_km, time_start, time_end)\n",
    "N, Distance, Time = 5, 80, 5\n",
    "x = Time* Distance*np.random.randn(N)\n",
    "plt.hist(x)\n",
    "plt.show()\n"
   ]
  },
  {
   "cell_type": "code",
   "execution_count": 210,
   "metadata": {},
   "outputs": [
    {
     "data": {
      "text/plain": [
       "array([[ 8,  7,  8, 12, 12,  6,  9, 12,  0, 12,  6,  8,  6],\n",
       "       [ 2,  4, 11,  8,  6, 11,  6, 13, 11,  9,  0, 12,  7],\n",
       "       [ 1,  1,  9,  8,  3, 11,  3,  2,  8,  6,  6,  8,  8],\n",
       "       [ 0, 12, 10,  6, 13, 13,  4,  4,  6, 13, 10, 11,  2],\n",
       "       [ 2,  7,  6,  4,  4,  6,  5, 11, 12, 11, 10,  9,  0],\n",
       "       [12, 10,  8, 13,  7,  0,  5,  2, 11,  9,  2,  3, 10],\n",
       "       [13,  3, 12,  4,  5, 10, 12, 12,  9,  0,  0,  3, 13],\n",
       "       [ 5,  2,  9,  1,  4,  2, 13,  4, 11, 11,  3,  9,  2],\n",
       "       [ 0,  2,  4,  3, 12,  5,  1,  7,  8,  9,  5, 12,  8],\n",
       "       [ 6,  1,  0,  3,  1,  5,  9,  4,  9,  5, 10,  1,  7],\n",
       "       [ 2,  8,  1, 12,  9, 12,  7, 12,  6,  0,  1, 10, 11],\n",
       "       [13,  2, 13,  6,  6,  1,  1,  6,  7,  7,  5,  0, 13]])"
      ]
     },
     "execution_count": 210,
     "metadata": {},
     "output_type": "execute_result"
    }
   ],
   "source": [
    "#Generate a 12 X 13 array of ints between 0 and 13\n",
    "np.random.randint(14, size=(12,13))\n"
   ]
  },
  {
   "cell_type": "code",
   "execution_count": 193,
   "metadata": {},
   "outputs": [
    {
     "name": "stdout",
     "output_type": "stream",
     "text": [
      "[[1 2]\n",
      " [3 4]\n",
      " [5 6]\n",
      " [7 8]]\n"
     ]
    }
   ],
   "source": [
    "#array=np.arange(10)\n",
    "import numpy as np\n",
    "import numpy.random\n",
    "\n",
    "a = np.array([1,2,3,4,5,6,7,8])\n",
    "a.shape = (4,2)\n",
    "print (a)\n"
   ]
  },
  {
   "cell_type": "code",
   "execution_count": 194,
   "metadata": {},
   "outputs": [
    {
     "name": "stdout",
     "output_type": "stream",
     "text": [
      "[[5 6]\n",
      " [1 2]\n",
      " [7 8]\n",
      " [3 4]]\n"
     ]
    }
   ],
   "source": [
    "np.random.shuffle(a) # a will Shuffle\n",
    "print (a)"
   ]
  },
  {
   "cell_type": "markdown",
   "metadata": {},
   "source": [
    "## Permutations” functions\n",
    "\n",
    "#### Randomly permute a sequence, or return a permuted range\n",
    "\n",
    "#### If x is an integer, randomly permute np.arange(x). If x is an array, make a copy and shuffle the elements randomly.\n",
    "\n",
    "http://memobio2015.u-strasbg.fr/conference/FICHIERS/Documentation/doc-numpy-html/reference/routines.random.html\n",
    "\n",
    "### Use\n",
    "In mathematics, the notion of permutation relates to the act of arranging all the members of a set into some sequence or order, or if the set is already ordered, rearranging (reordering) its elements, a process called permuting."
   ]
  },
  {
   "cell_type": "markdown",
   "metadata": {},
   "source": [
    "# Example of Permutations” functions"
   ]
  },
  {
   "cell_type": "code",
   "execution_count": 195,
   "metadata": {},
   "outputs": [
    {
     "data": {
      "text/html": [
       "<div>\n",
       "<style scoped>\n",
       "    .dataframe tbody tr th:only-of-type {\n",
       "        vertical-align: middle;\n",
       "    }\n",
       "\n",
       "    .dataframe tbody tr th {\n",
       "        vertical-align: top;\n",
       "    }\n",
       "\n",
       "    .dataframe thead th {\n",
       "        text-align: right;\n",
       "    }\n",
       "</style>\n",
       "<table border=\"1\" class=\"dataframe\">\n",
       "  <thead>\n",
       "    <tr style=\"text-align: right;\">\n",
       "      <th></th>\n",
       "      <th>fname</th>\n",
       "      <th>lname</th>\n",
       "      <th>age</th>\n",
       "      <th>gender</th>\n",
       "    </tr>\n",
       "  </thead>\n",
       "  <tbody>\n",
       "    <tr>\n",
       "      <th>0</th>\n",
       "      <td>rayan</td>\n",
       "      <td>tracy</td>\n",
       "      <td>42</td>\n",
       "      <td>M</td>\n",
       "    </tr>\n",
       "    <tr>\n",
       "      <th>1</th>\n",
       "      <td>kavita</td>\n",
       "      <td>kumari</td>\n",
       "      <td>52</td>\n",
       "      <td>F</td>\n",
       "    </tr>\n",
       "    <tr>\n",
       "      <th>2</th>\n",
       "      <td>adarsha</td>\n",
       "      <td>sachan</td>\n",
       "      <td>36</td>\n",
       "      <td>M</td>\n",
       "    </tr>\n",
       "    <tr>\n",
       "      <th>3</th>\n",
       "      <td>vikash</td>\n",
       "      <td>kumar</td>\n",
       "      <td>24</td>\n",
       "      <td>M</td>\n",
       "    </tr>\n",
       "    <tr>\n",
       "      <th>4</th>\n",
       "      <td>mani</td>\n",
       "      <td>kumari</td>\n",
       "      <td>73</td>\n",
       "      <td>F</td>\n",
       "    </tr>\n",
       "  </tbody>\n",
       "</table>\n",
       "</div>"
      ],
      "text/plain": [
       "     fname   lname  age gender\n",
       "0    rayan   tracy   42      M\n",
       "1   kavita  kumari   52      F\n",
       "2  adarsha  sachan   36      M\n",
       "3   vikash   kumar   24      M\n",
       "4     mani  kumari   73      F"
      ]
     },
     "execution_count": 195,
     "metadata": {},
     "output_type": "execute_result"
    }
   ],
   "source": [
    "import pandas as pd\n",
    "import numpy as np\n",
    "\n",
    "companydata = {'fname': ['rayan', 'kavita', 'adarsha', 'vikash', 'mani'], \n",
    "        'lname': ['tracy', 'kumari', 'sachan', 'kumar', 'kumari'], \n",
    "        'age': [42, 52, 36, 24, 73], \n",
    "        'gender': [\"M\", \"F\",\"M\", \"M\", \"F\"]}\n",
    "df = pd.DataFrame(companydata, columns = ['fname', 'lname', 'age', 'gender'])\n",
    "df"
   ]
  },
  {
   "cell_type": "code",
   "execution_count": 196,
   "metadata": {},
   "outputs": [
    {
     "data": {
      "text/html": [
       "<div>\n",
       "<style scoped>\n",
       "    .dataframe tbody tr th:only-of-type {\n",
       "        vertical-align: middle;\n",
       "    }\n",
       "\n",
       "    .dataframe tbody tr th {\n",
       "        vertical-align: top;\n",
       "    }\n",
       "\n",
       "    .dataframe thead th {\n",
       "        text-align: right;\n",
       "    }\n",
       "</style>\n",
       "<table border=\"1\" class=\"dataframe\">\n",
       "  <thead>\n",
       "    <tr style=\"text-align: right;\">\n",
       "      <th></th>\n",
       "      <th>fname</th>\n",
       "      <th>lname</th>\n",
       "      <th>age</th>\n",
       "      <th>gender</th>\n",
       "    </tr>\n",
       "  </thead>\n",
       "  <tbody>\n",
       "    <tr>\n",
       "      <th>2</th>\n",
       "      <td>adarsha</td>\n",
       "      <td>sachan</td>\n",
       "      <td>36</td>\n",
       "      <td>M</td>\n",
       "    </tr>\n",
       "    <tr>\n",
       "      <th>3</th>\n",
       "      <td>vikash</td>\n",
       "      <td>kumar</td>\n",
       "      <td>24</td>\n",
       "      <td>M</td>\n",
       "    </tr>\n",
       "  </tbody>\n",
       "</table>\n",
       "</div>"
      ],
      "text/plain": [
       "     fname   lname  age gender\n",
       "2  adarsha  sachan   36      M\n",
       "3   vikash   kumar   24      M"
      ]
     },
     "execution_count": 196,
     "metadata": {},
     "output_type": "execute_result"
    }
   ],
   "source": [
    "df.take(np.random.permutation(len(df))[:2])"
   ]
  },
  {
   "cell_type": "markdown",
   "metadata": {},
   "source": [
    "## 3 Explain the use and purpose of at least five “Distributions” functions.\n"
   ]
  },
  {
   "cell_type": "markdown",
   "metadata": {},
   "source": [
    "## 1.numpy.random.beta\n",
    "numpy.random.beta(a, b, size=None). Draw samples from a Beta distribution. The Beta distribution is a special case of the Dirichlet distribution, and is related to the Gamma distribution.\n",
    "\n",
    "### Uses\n",
    "Draw samples from a Beta distribution.\n",
    "\n",
    "### Purpose\n",
    "A Beta distribution with parameters and is a uniform distribution on the interval .When we have that Therefore, the probability density function of a Beta distribution with parameters and can be written as But the latter is the probability density function of a uniform distribution on the interval ."
   ]
  },
  {
   "cell_type": "markdown",
   "metadata": {},
   "source": [
    "#  Example numpy.random.beta"
   ]
  },
  {
   "cell_type": "code",
   "execution_count": 197,
   "metadata": {},
   "outputs": [
    {
     "name": "stdout",
     "output_type": "stream",
     "text": [
      "mean of sample = 0.3867599468634459 but should be 0.38461538461538464\n",
      "The error = 0.005575861844959262\n"
     ]
    },
    {
     "data": {
      "image/png": "[encoded data removed]",
      "text/plain": [
       "<matplotlib.figure.Figure at 0x9a66208>"
      ]
     },
     "metadata": {},
     "output_type": "display_data"
    }
   ],
   "source": [
    "\n",
    "import matplotlib.pyplot as plt\n",
    "import numpy as np\n",
    "N = 1000\n",
    "a = 5\n",
    "b = 8\n",
    "x = np.random.beta(a, b, N)\n",
    "plt.hist(x, bins = 50, color = 'yellow')\n",
    "plt.xlabel('x')\n",
    "plt.ylabel('Frequency')\n",
    "plt.title('numpy.random.beta')\n",
    "m1 = x.mean()\n",
    "m2 = a/(a+b)\n",
    "error = (m1-m2)/m2\n",
    "print(\"mean of sample = %s but should be %s\" % (m1,m2))\n",
    "print(\"The error = %s\" % error)\n",
    "plt.show()\n"
   ]
  },
  {
   "cell_type": "markdown",
   "metadata": {},
   "source": [
    "## 2.numpy.random.f\n",
    "numpy.random.f(dfnum, dfden, size=None). Draw samples from an F distribution. Samples are drawn from an F distribution with specified parameters, dfnum (degrees of freedom in numerator) and dfden (degrees of freedom in denominator), where both parameters should be greater than zero.\n",
    "\n",
    "### Uses\n",
    "The main use of F-distribution is to test whether two independent samples have been drawn for the normal populations with the same variance, or if two independent estimates of the population variance are homogeneous or not, since it is often desirable to compare two variances rather than two averages.\n",
    "\n",
    "### Purpose\n",
    "The F distribution is a right-skewed distribution used most commonly in Analysis of Variance. When referencing the F distribution, the numerator degrees of freedom are always given first, as switching the order of degrees of freedom changes the distribution."
   ]
  },
  {
   "cell_type": "markdown",
   "metadata": {},
   "source": [
    "# Example of numpy.random.f"
   ]
  },
  {
   "cell_type": "code",
   "execution_count": 211,
   "metadata": {},
   "outputs": [
    {
     "data": {
      "text/plain": [
       "[<matplotlib.lines.Line2D at 0xc1e8e80>]"
      ]
     },
     "execution_count": 211,
     "metadata": {},
     "output_type": "execute_result"
    },
    {
     "data": {
      "image/png": "[encoded data removed]",
      "text/plain": [
       "<matplotlib.figure.Figure at 0xc433780>"
      ]
     },
     "metadata": {},
     "output_type": "display_data"
    }
   ],
   "source": [
    "import numpy as np\n",
    "from scipy.stats import f\n",
    "import matplotlib.pyplot as plt\n",
    "\n",
    "# first\n",
    "a = f(dfn=13, dfd=18)\n",
    "x = np.linspace(a.ppf(0.0001), a.ppf(0.9999), 100)\n",
    "y = a.pdf(x) \n",
    "\n",
    "plt.xlim(0,5)\n",
    "plt.plot(x,y, 'b-')\n",
    "\n",
    "# second\n",
    "b = f(dfn=29, dfd=26)\n",
    "x = np.linspace(b.ppf(0.0001), b.ppf(0.9999), 100)\n",
    "y = b.pdf(x) \n",
    "\n",
    "plt.plot(x,y, 'r--')\n",
    "\n"
   ]
  },
  {
   "cell_type": "markdown",
   "metadata": {},
   "source": [
    "## 3.numpy.random.noncentral_chisquare\n",
    "numpy.random.noncentral_chisquare(df, nonc, size=None)¶. Draw samples from a noncentral chi-square distribution. The noncentral distribution is a generalisation of the distribution\n",
    "\n",
    "### Uses\n",
    "Draw samples from a noncentral chi-square distribution.\n",
    "\n",
    "#### http://en.wikipedia.org/wiki/Noncentral_chi-square_distribution\n",
    "\n",
    "### Purpose\n",
    "The noncentral chi-square distribution requires two parameters: the degrees of freedom and the noncentrality parameter. The noncentrality parameter is the sum of the squared means of the normally distributed quantities. The noncentral chi-square has scientific application in thermodynamics and signal processing"
   ]
  },
  {
   "cell_type": "code",
   "execution_count": 201,
   "metadata": {},
   "outputs": [
    {
     "data": {
      "image/png": "[encoded data removed]",
      "text/plain": [
       "<matplotlib.figure.Figure at 0xc096710>"
      ]
     },
     "metadata": {},
     "output_type": "display_data"
    },
    {
     "data": {
      "text/plain": [
       "<matplotlib.figure.Figure at 0xc3d0cf8>"
      ]
     },
     "execution_count": 201,
     "metadata": {},
     "output_type": "execute_result"
    },
    {
     "data": {
      "text/plain": [
       "<matplotlib.figure.Figure at 0xc3d0cf8>"
      ]
     },
     "metadata": {},
     "output_type": "display_data"
    }
   ],
   "source": [
    "#Draw values from the distribution and plot the histogram\n",
    "import matplotlib.pyplot as plt\n",
    "values = plt.hist(np.random.noncentral_chisquare(6, 30,200000),bins=2000, normed=True)\n",
    "plt.show()\n",
    "plt.figure()\n"
   ]
  },
  {
   "cell_type": "markdown",
   "metadata": {},
   "source": [
    "# Example Numpy.random.noncentral_chisquare"
   ]
  },
  {
   "cell_type": "code",
   "execution_count": 202,
   "metadata": {},
   "outputs": [
    {
     "data": {
      "image/png": "[encoded data removed]",
      "text/plain": [
       "<matplotlib.figure.Figure at 0x994af60>"
      ]
     },
     "metadata": {},
     "output_type": "display_data"
    }
   ],
   "source": [
    "import numpy as np\n",
    "from scipy.stats import ncx2\n",
    "import matplotlib.pyplot as plt\n",
    "#np.random.noncentral_chisquare\n",
    "n = 100  # number of normals in sum\n",
    "trials= 10000  # number of trials\n",
    "\n",
    "mu = 0.05\n",
    "sig = 0.3\n",
    "\n",
    "### Generate sums of squared normals\n",
    "Z = np.random.normal(loc=mu, scale=sig, size=(trials, n))\n",
    "S = np.sum(Z**2, axis=1)\n",
    "\n",
    "### non_centrality\n",
    "non_centrality = n*mu**2\n",
    "NCX2 = sig**2 * ncx2.rvs(n, non_centrality, size=trials)\n",
    "\n",
    "##Plot histos using subplot\n",
    "fig, ax = plt.subplots()\n",
    "ax.hist(S, bins=50, label='squared normals')\n",
    "ax.hist(NCX2, bins=50, label='Non_centrality')\n",
    "ax.legend()\n",
    "plt.show()"
   ]
  },
  {
   "cell_type": "markdown",
   "metadata": {},
   "source": [
    "## 4.numpy.random.triangular\n",
    "numpy.random.triangular(left, mode, right, size=None). Draw samples from the triangular distribution over the interval (left, right). The triangular distribution is a continuous probability distribution with lower limit left, peak at mode, and upper limit right.1,2\n",
    "\n",
    "### Uses\n",
    "Draw samples from the triangular distribution over the interval \n",
    "\n",
    "### Purpose\n",
    "A triangular distribution is a continuous probability distribution with a probability density function shaped like a triangle.The triangular distribution has a definite upper and lower limit, so we avoid unwanted extreme values. In addition the triangular distribution is a good model for skewed distributions\n"
   ]
  },
  {
   "cell_type": "code",
   "execution_count": 203,
   "metadata": {},
   "outputs": [
    {
     "data": {
      "image/png": "[encoded data removed]",
      "text/plain": [
       "<matplotlib.figure.Figure at 0xbdfad68>"
      ]
     },
     "metadata": {},
     "output_type": "display_data"
    }
   ],
   "source": [
    "#Draw values from the distribution and plot the histogram:\n",
    "import matplotlib.pyplot as ptl\n",
    "grapth = plt.hist(np.random.triangular(-5, 2, 8, 1534), bins=200,normed=True)\n",
    "ptl.show()"
   ]
  },
  {
   "cell_type": "markdown",
   "metadata": {},
   "source": [
    "# Example numpy.random.triangular"
   ]
  },
  {
   "cell_type": "code",
   "execution_count": 204,
   "metadata": {},
   "outputs": [
    {
     "data": {
      "text/plain": [
       "Text(0,0.5,'Y')"
      ]
     },
     "execution_count": 204,
     "metadata": {},
     "output_type": "execute_result"
    },
    {
     "data": {
      "image/png": "[encoded data removed]",
      "text/plain": [
       "<matplotlib.figure.Figure at 0x9fea470>"
      ]
     },
     "metadata": {},
     "output_type": "display_data"
    }
   ],
   "source": [
    "import math\n",
    "import numpy as np\n",
    "import random\n",
    "import matplotlib.pyplot as plt\n",
    "city= 25# value\n",
    "x = [random.triangular() for i in range(city)]\n",
    "y = [random.gauss(1, 2) for i in range(city)]\n",
    "colors = [random.randint(1, 4) for i in range(city)]\n",
    "areas = [math.pi * random.randint(2, 8)+34 for i in range(city)]\n",
    "# draw a plot\n",
    "plt.figure()\n",
    "plt.scatter(x, y, s=areas,c=colors)\n",
    "plt.xlabel(\"X\")\n",
    "plt.ylabel(\"Y\")\n",
    "#plt.hist(areas)\n"
   ]
  },
  {
   "cell_type": "markdown",
   "metadata": {},
   "source": [
    "### 5.numpy.random.standard_cauchy\n",
    "Draw samples from a standard Cauchy distribution with mode = 0. Also known as the Lorentz distribution. size : int or tuple of ints, optional. Output shape. If the given shape is, e.g., (m, n, k), then m * n * k samples are drawn.\n",
    "\n",
    "### Uses\n",
    "Draw samples from a standard Cauchy distribution with mode = 0.\n",
    "\n",
    "### Purpose\n",
    "The Cauchy distribution is an example of a distribution which has no mean, variance or higher moments defined.When and are two independent normally distributed random variables with expected value 0 and variance 1, then the ratio has the standard Cauchy distribution."
   ]
  },
  {
   "cell_type": "code",
   "execution_count": 205,
   "metadata": {},
   "outputs": [],
   "source": [
    "#Draw samples and plot the distribution:\n",
    "s = np.random.standard_cauchy(10)\n"
   ]
  },
  {
   "cell_type": "code",
   "execution_count": 206,
   "metadata": {},
   "outputs": [],
   "source": [
    "s = s[(s>-12) & (s<18)]  # truncate distribution so it plots well "
   ]
  },
  {
   "cell_type": "code",
   "execution_count": 207,
   "metadata": {},
   "outputs": [
    {
     "data": {
      "image/png": "[encoded data removed]",
      "text/plain": [
       "<matplotlib.figure.Figure at 0xbf35e10>"
      ]
     },
     "metadata": {},
     "output_type": "display_data"
    }
   ],
   "source": [
    "plt.hist(s, bins=15)\n",
    "plt.show()"
   ]
  },
  {
   "cell_type": "markdown",
   "metadata": {},
   "source": [
    "# Example numpy.random.standard_cauchy"
   ]
  },
  {
   "cell_type": "code",
   "execution_count": 208,
   "metadata": {},
   "outputs": [
    {
     "data": {
      "image/png": "[encoded data removed]",
      "text/plain": [
       "<matplotlib.figure.Figure at 0xc362160>"
      ]
     },
     "metadata": {},
     "output_type": "display_data"
    }
   ],
   "source": [
    "import numpy as np\n",
    "#\n",
    "from scipy.stats import cauchy\n",
    "from matplotlib import pyplot as plt\n",
    "#------------------------------------------------------------\n",
    "# Define the distribution parameters to be plotted\n",
    "gamma_values = [0.5, 1.0, 2.0]\n",
    "linestyles = ['-', '--', ':']\n",
    "mu = 0\n",
    "x = np.linspace(-10, 10, 1000)\n",
    "\n",
    "#------------------------------------------------------------\n",
    "# plot the distributions\n",
    "fig, ax = plt.subplots(figsize=(5, 3.75))\n",
    "\n",
    "for gamma, ls in zip(gamma_values, linestyles):\n",
    "    dist = cauchy(mu, gamma)\n",
    "\n",
    "    plt.plot(x, dist.pdf(x), ls=ls, color='black')#\n",
    "         \n",
    "plt.xlim(-4.5, 4.5)\n",
    "plt.ylim(0, 0.65)\n",
    "plt.title('Cauchy Distribution')\n",
    "plt.show()"
   ]
  },
  {
   "cell_type": "markdown",
   "metadata": {},
   "source": [
    "## 4 Explain the use of seeds in generating pseudorandom numbers\n",
    "https://www.khanacademy.org/computing/computer-science/cryptography/crypt/v/random-vs-pseudorandom-number-generators\n",
    "\n",
    "A random seed (or seed state, or just seed) is a number (or vector) used to initialize a pseudorandom number generator. For a seed to be used in a pseudorandom number generator, it does not need to be random.\n",
    "\n",
    "### Uses\n",
    "A random seed is a number used to initialize a pseudorandom number generator. For a seed to be used in a pseudorandom number generator, it does not need to be random.When a secret encryption key is pseudorandomly generated, having the seed will allow one to obtain the key.\n",
    "\n",
    "#### Seed as provided as input (Select truly random number called seed this number can come from noise or current time in mili second)\n",
    "\n",
    "#### Multiplied seed itself then use out put as middle of result\n",
    "\n",
    "#### Then use that output as next seed and repeate this pocress as many times as need\n",
    "\n",
    "#### This is know middle squired mathod\n",
    "\n",
    "The rendomness of sequence number is depend on seed\n"
   ]
  },
  {
   "cell_type": "markdown",
   "metadata": {},
   "source": [
    "### Refrence seeds in generating pseudorandom numbers\n",
    "https://www.youtube.com/watch?v=itaMNuWLzJo\n",
    "\n",
    "https://www.youtube.com/watch?v=C82JyCmtKWg\n",
    "\n",
    "https://en.wikipedia.org/wiki/John_von_Neumann"
   ]
  },
  {
   "cell_type": "markdown",
   "metadata": {},
   "source": [
    "# Seed Example"
   ]
  },
  {
   "cell_type": "code",
   "execution_count": 209,
   "metadata": {},
   "outputs": [
    {
     "data": {
      "image/png": "[encoded data removed]",
      "text/plain": [
       "<matplotlib.figure.Figure at 0xc1c2ef0>"
      ]
     },
     "metadata": {},
     "output_type": "display_data"
    }
   ],
   "source": [
    "#%pylab is a \"magic function\" that you can call within IPythonimport pylab\n",
    "import pylab\n",
    "import random\n",
    "random.seed(1234)# my seed value\n",
    "dice = []\n",
    "for i in range(100):\n",
    "    total = random.randint(1,6) + random.randint(1,6)\n",
    "    dice.append(total)\n",
    "pylab.hist(dice, bins= pylab.arange(2,10,1))\n",
    "pylab.show()\n"
   ]
  },
  {
   "cell_type": "code",
   "execution_count": null,
   "metadata": {},
   "outputs": [],
   "source": []
  },
  {
   "cell_type": "code",
   "execution_count": null,
   "metadata": {},
   "outputs": [],
   "source": []
  }
 ],
 "metadata": {
  "kernelspec": {
   "display_name": "Python 3",
   "language": "python",
   "name": "python3"
  },
  "language_info": {
   "codemirror_mode": {
    "name": "ipython",
    "version": 3
   },
   "file_extension": ".py",
   "mimetype": "text/x-python",
   "name": "python",
   "nbconvert_exporter": "python",
   "pygments_lexer": "ipython3",
   "version": "3.6.4"
  }
 },
 "nbformat": 4,
 "nbformat_minor": 2
}
